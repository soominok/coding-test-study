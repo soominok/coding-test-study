{
 "cells": [
  {
   "cell_type": "code",
   "execution_count": 13,
   "id": "01622bd2",
   "metadata": {},
   "outputs": [
    {
     "name": "stdout",
     "output_type": "stream",
     "text": [
      "4\n",
      "10 15 20 25\n",
      "2\n",
      "3 10\n",
      "2 20\n",
      "4\n",
      "[10, 15, 20, 25]\n",
      "[[3, 10], [2, 20]]\n"
     ]
    }
   ],
   "source": [
    "n = int(input())\n",
    "c = list(map(int, input().split()))\n",
    "# p = int(input())\n",
    "\n",
    "# c_arr = [list(map(int, input().split())) for _ in range(p)]\n",
    "\n",
    "p_arr = []\n",
    "\n",
    "for info in range(n):\n",
    "    p = int(input())\n",
    "    p_arr_one = [list(map(int, input().split())) for _ in range(p)]\n",
    "    p_arr += p_arr_one\n",
    "    \n",
    "print(n)\n",
    "print(c)\n",
    "print(p)\n",
    "print(p_arr)"
   ]
  },
  {
   "cell_type": "code",
   "execution_count": 17,
   "id": "c24228b3",
   "metadata": {},
   "outputs": [
    {
     "name": "stdout",
     "output_type": "stream",
     "text": [
      "4\n",
      "10 15 20 25\n",
      "2\n",
      "3 10\n",
      "2 20\n",
      "0\n",
      "1\n",
      "4 10\n",
      "1\n",
      "1 10\n",
      "4\n",
      "[10, 15, 20, 25]\n",
      "1\n",
      "[[3, 10], [2, 20], [4, 10], [1, 10]]\n"
     ]
    }
   ],
   "source": [
    "n = int(input())\n",
    "c = list(map(int, input().split()))\n",
    "# p = int(input())\n",
    "\n",
    "# c_arr = [list(map(int, input().split())) for _ in range(p)]\n",
    "\n",
    "p_arr = []\n",
    "\n",
    "for info in range(n):\n",
    "    p = int(input())\n",
    "    p_arr_one = [list(map(int, input().split())) for _ in range(p)]\n",
    "    p_arr += p_arr_one\n",
    "    \n"
   ]
  },
  {
   "cell_type": "code",
   "execution_count": null,
   "id": "762d018a",
   "metadata": {},
   "outputs": [],
   "source": []
  }
 ],
 "metadata": {
  "kernelspec": {
   "display_name": "Python 3",
   "language": "python",
   "name": "python3"
  },
  "language_info": {
   "codemirror_mode": {
    "name": "ipython",
    "version": 3
   },
   "file_extension": ".py",
   "mimetype": "text/x-python",
   "name": "python",
   "nbconvert_exporter": "python",
   "pygments_lexer": "ipython3",
   "version": "3.8.5"
  }
 },
 "nbformat": 4,
 "nbformat_minor": 5
}
