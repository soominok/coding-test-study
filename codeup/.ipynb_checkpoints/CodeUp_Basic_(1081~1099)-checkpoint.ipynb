{
 "cells": [
  {
   "cell_type": "markdown",
   "metadata": {},
   "source": [
    "### 1081."
   ]
  },
  {
   "cell_type": "code",
   "execution_count": 3,
   "metadata": {},
   "outputs": [
    {
     "name": "stdout",
     "output_type": "stream",
     "text": [
      "2 3\n",
      "1 1\n",
      "1 2\n",
      "1 3\n",
      "2 1\n",
      "2 2\n",
      "2 3\n"
     ]
    }
   ],
   "source": [
    "a, b = map(int, input().split())\n",
    "\n",
    "for x in range(1, a+1):\n",
    "    for y in range(1, b+1):\n",
    "        print(x, y)"
   ]
  },
  {
   "cell_type": "markdown",
   "metadata": {},
   "source": [
    "### 1082."
   ]
  },
  {
   "cell_type": "code",
   "execution_count": 7,
   "metadata": {},
   "outputs": [
    {
     "name": "stdout",
     "output_type": "stream",
     "text": [
      "B\n",
      "B*1=B\n",
      "B*2=16\n",
      "B*3=21\n",
      "B*4=2C\n",
      "B*5=37\n",
      "B*6=42\n",
      "B*7=4D\n",
      "B*8=58\n",
      "B*9=63\n",
      "B*A=6E\n",
      "B*B=79\n",
      "B*C=84\n",
      "B*D=8F\n",
      "B*E=9A\n",
      "B*F=A5\n"
     ]
    }
   ],
   "source": [
    "a = int(input(), 16)\n",
    "\n",
    "for x in range(1, 16):\n",
    "    print((\"%X\" % a) + \"*\" + (\"%X\" % x) + \"=\" + (\"%X\" % (a * x))) "
   ]
  },
  {
   "cell_type": "markdown",
   "metadata": {},
   "source": [
    "### 1083."
   ]
  },
  {
   "cell_type": "code",
   "execution_count": 2,
   "metadata": {},
   "outputs": [
    {
     "name": "stdout",
     "output_type": "stream",
     "text": [
      "9\n",
      "1 2 X 4 5 X 7 8 X "
     ]
    }
   ],
   "source": [
    "a = int(input())\n",
    "\n",
    "for x in range(1, a+1):\n",
    "    if x % 3 != 0:\n",
    "        print(x, end = \" \")\n",
    "    else:\n",
    "        print('X', end = \" \")"
   ]
  },
  {
   "cell_type": "code",
   "execution_count": 3,
   "metadata": {},
   "outputs": [
    {
     "name": "stdout",
     "output_type": "stream",
     "text": [
      "9\n",
      "1 2 X 4 5 X 7 8 X "
     ]
    }
   ],
   "source": [
    "a = int(input())\n",
    "\n",
    "for x in range(1, a+1):\n",
    "    print(x if (x % 3 != 0) else 'X', end = \" \")"
   ]
  },
  {
   "cell_type": "markdown",
   "metadata": {},
   "source": [
    "### 1084."
   ]
  },
  {
   "cell_type": "code",
   "execution_count": 7,
   "metadata": {
    "scrolled": true
   },
   "outputs": [
    {
     "name": "stdout",
     "output_type": "stream",
     "text": [
      "2 2 2\n",
      "0 0 0\n",
      "0 0 1\n",
      "0 1 0\n",
      "0 1 1\n",
      "1 0 0\n",
      "1 0 1\n",
      "1 1 0\n",
      "1 1 1\n",
      "8\n"
     ]
    }
   ],
   "source": [
    "a, b, c = map(int, input().split())\n",
    "count = 0\n",
    "\n",
    "for x in range(a):\n",
    "    for y in range(b):\n",
    "        for z in range(c):\n",
    "            print(x, y, z)\n",
    "            count += 1\n",
    "print(count)"
   ]
  },
  {
   "cell_type": "markdown",
   "metadata": {},
   "source": [
    "### 1085."
   ]
  },
  {
   "cell_type": "code",
   "execution_count": 16,
   "metadata": {},
   "outputs": [
    {
     "name": "stdout",
     "output_type": "stream",
     "text": [
      "44100 16 2 10\n",
      "1.7 MB\n"
     ]
    }
   ],
   "source": [
    "h, b, c, s = map(int, input().split())\n",
    "\n",
    "bit = h * b * c * s\n",
    "mb = (1/1024) ** 2 * (1/8) * bit\n",
    "print(str(round(mb,1)) + ' MB' )"
   ]
  },
  {
   "cell_type": "code",
   "execution_count": 18,
   "metadata": {},
   "outputs": [
    {
     "name": "stdout",
     "output_type": "stream",
     "text": [
      "44100 16 2 10\n",
      "1.7 MB\n"
     ]
    }
   ],
   "source": [
    "h, b, c, s = map(int, input().split())\n",
    "\n",
    "print(\"%.1f MB\" % (h*b*c*s/8/1024/1024))"
   ]
  },
  {
   "cell_type": "markdown",
   "metadata": {},
   "source": [
    "### 1086."
   ]
  },
  {
   "cell_type": "code",
   "execution_count": 19,
   "metadata": {},
   "outputs": [
    {
     "name": "stdout",
     "output_type": "stream",
     "text": [
      "1024 768 24\n",
      "2.25 MB\n"
     ]
    }
   ],
   "source": [
    "r, g, b = map(int, input().split())\n",
    "\n",
    "bit = r * g * b\n",
    "mb = bit * (1/8) * (1/1024) ** 2\n",
    "print(\"%.2f MB\" % mb)"
   ]
  },
  {
   "cell_type": "code",
   "execution_count": 20,
   "metadata": {},
   "outputs": [
    {
     "name": "stdout",
     "output_type": "stream",
     "text": [
      "1024 768 24\n",
      "2.25 MB\n"
     ]
    }
   ],
   "source": [
    "r, g, b = map(int, input().split())\n",
    "\n",
    "print(\"%.2f MB\" % (r * g * b/8/1024/1024))"
   ]
  },
  {
   "cell_type": "markdown",
   "metadata": {},
   "source": [
    "### 1087."
   ]
  },
  {
   "cell_type": "code",
   "execution_count": 21,
   "metadata": {},
   "outputs": [
    {
     "name": "stdout",
     "output_type": "stream",
     "text": [
      "57\n",
      "66\n"
     ]
    }
   ],
   "source": [
    "a = int(input())\n",
    "sum = 0\n",
    "\n",
    "for x in range(1, a+1):\n",
    "    sum += x\n",
    "    if sum >= a:\n",
    "        break\n",
    "print(sum)"
   ]
  },
  {
   "cell_type": "markdown",
   "metadata": {},
   "source": [
    "### 1088."
   ]
  },
  {
   "cell_type": "code",
   "execution_count": 24,
   "metadata": {},
   "outputs": [
    {
     "name": "stdout",
     "output_type": "stream",
     "text": [
      "10\n",
      "1 2 4 5 7 8 10 "
     ]
    }
   ],
   "source": [
    "a = int(input())\n",
    "\n",
    "for x in range(1, a+1):\n",
    "    if x % 3 == 0:\n",
    "        continue\n",
    "        x += 1\n",
    "    print(x, end = \" \")"
   ]
  },
  {
   "cell_type": "markdown",
   "metadata": {},
   "source": [
    "### 1089."
   ]
  },
  {
   "cell_type": "code",
   "execution_count": 43,
   "metadata": {},
   "outputs": [
    {
     "name": "stdout",
     "output_type": "stream",
     "text": [
      "1 3 5\n",
      "13\n"
     ]
    }
   ],
   "source": [
    "a, d, n = map(int, input().split())\n",
    "\n",
    "for x in range(a, n):\n",
    "    a = (a + d)\n",
    "print(a)"
   ]
  },
  {
   "cell_type": "code",
   "execution_count": 37,
   "metadata": {
    "scrolled": true
   },
   "outputs": [
    {
     "name": "stdout",
     "output_type": "stream",
     "text": [
      "1 3 5\n",
      "13\n"
     ]
    }
   ],
   "source": [
    "a, d, n = map(int, input().split())\n",
    "\n",
    "print(a + d * (n-1))"
   ]
  },
  {
   "cell_type": "markdown",
   "metadata": {},
   "source": [
    "### 1090."
   ]
  },
  {
   "cell_type": "code",
   "execution_count": 49,
   "metadata": {},
   "outputs": [
    {
     "name": "stdout",
     "output_type": "stream",
     "text": [
      "2 3 7\n",
      "349920\n"
     ]
    }
   ],
   "source": [
    "a, r, n = map(int, input().split())\n",
    "\n",
    "for x in range(a, n):\n",
    "    a = a * r * x\n",
    "print(a)"
   ]
  },
  {
   "cell_type": "code",
   "execution_count": 39,
   "metadata": {},
   "outputs": [
    {
     "name": "stdout",
     "output_type": "stream",
     "text": [
      "2 3 7\n",
      "1458\n"
     ]
    }
   ],
   "source": [
    "a, r, n = map(int, input().split())\n",
    "\n",
    "print(a * r ** (n-1))"
   ]
  },
  {
   "cell_type": "markdown",
   "metadata": {},
   "source": [
    "### 1091."
   ]
  },
  {
   "cell_type": "code",
   "execution_count": 40,
   "metadata": {},
   "outputs": [
    {
     "name": "stdout",
     "output_type": "stream",
     "text": [
      "1 -2 1 8\n",
      "-85\n"
     ]
    }
   ],
   "source": [
    "a, m, d, n = map(int, input().split())\n",
    "\n",
    "for x in range(1, n):\n",
    "    a = (m * a) + d\n",
    "print(a)"
   ]
  },
  {
   "cell_type": "markdown",
   "metadata": {},
   "source": [
    "### 1092."
   ]
  },
  {
   "cell_type": "markdown",
   "metadata": {},
   "source": [
    "#### (문제 풀이) \n",
    "##### for문은 사용하기 어려움\n",
    "##### while 문 쓰면 조건에 맞춰서 반복문 실행할 수 있음"
   ]
  },
  {
   "cell_type": "code",
   "execution_count": 50,
   "metadata": {
    "scrolled": true
   },
   "outputs": [
    {
     "name": "stdout",
     "output_type": "stream",
     "text": [
      "3 7 9\n",
      "63\n"
     ]
    }
   ],
   "source": [
    "a, b, c = map(int, input().split())\n",
    "day = 1\n",
    "\n",
    "while (day % a != 0) or (day % b != 0) or (day % c != 0):\n",
    "    day += 1\n",
    "print(day)"
   ]
  },
  {
   "cell_type": "markdown",
   "metadata": {},
   "source": [
    "### 1093. 1차원 배열 - 출석 번호 부르기"
   ]
  },
  {
   "cell_type": "markdown",
   "metadata": {},
   "source": [
    "#### 다시 풀어보기"
   ]
  },
  {
   "cell_type": "code",
   "execution_count": 26,
   "metadata": {},
   "outputs": [
    {
     "name": "stdout",
     "output_type": "stream",
     "text": [
      "10\n",
      "9 23 1 9 23 21 11 8 18 14 \n",
      "1 0 0 0 0 0 0 1 2 0 1 0 0 1 0 0 0 1 0 0 1 0 2 "
     ]
    }
   ],
   "source": [
    "n = int(input())\n",
    "arr = list(map(int, input().split()))\n",
    "result = [0]*23\n",
    "\n",
    "for i in arr:\n",
    "    result[i-1] += 1\n",
    "for j in result:\n",
    "    print(j, end = \" \")"
   ]
  },
  {
   "cell_type": "markdown",
   "metadata": {},
   "source": [
    "### 1094."
   ]
  },
  {
   "cell_type": "markdown",
   "metadata": {},
   "source": [
    "#### 모범답안 다시 보기"
   ]
  },
  {
   "cell_type": "code",
   "execution_count": 30,
   "metadata": {},
   "outputs": [
    {
     "name": "stdout",
     "output_type": "stream",
     "text": [
      "10\n",
      "10 4 2 3 6 6 7 9 8 5\n",
      "5 8 9 7 6 6 3 2 4 10 "
     ]
    }
   ],
   "source": [
    "n = int(input())\n",
    "arr = list(map(int, input().split()))\n",
    "result = reversed(arr)\n",
    "\n",
    "for i in result:\n",
    "    print(i, end=\" \")"
   ]
  },
  {
   "cell_type": "code",
   "execution_count": null,
   "metadata": {},
   "outputs": [],
   "source": []
  },
  {
   "cell_type": "markdown",
   "metadata": {},
   "source": [
    "### 1095."
   ]
  },
  {
   "cell_type": "code",
   "execution_count": 32,
   "metadata": {},
   "outputs": [
    {
     "name": "stdout",
     "output_type": "stream",
     "text": [
      "10\n",
      "10 4 2 3 6 6 7 9 8 5\n",
      "2\n"
     ]
    }
   ],
   "source": [
    "n = int(input())\n",
    "arr = list(map(int,input().split()))\n",
    "result = min(arr)\n",
    "print(result)       "
   ]
  },
  {
   "cell_type": "code",
   "execution_count": 34,
   "metadata": {},
   "outputs": [
    {
     "name": "stdout",
     "output_type": "stream",
     "text": [
      "10\n",
      "10 4 2 3 6 6 7 9 8 5\n",
      "2\n"
     ]
    }
   ],
   "source": [
    "a=input()\n",
    "b=input().split()\n",
    " \n",
    "n=int(a)\n",
    "arr=[]\n",
    "for i in range(n) :\n",
    "    arr.append(int(b[i]))\n",
    "\n",
    "m = 23\n",
    "for i in range(n) :\n",
    "    if m>arr[i] :\n",
    "        m=arr[i]\n",
    "\n",
    "print(m)"
   ]
  },
  {
   "cell_type": "markdown",
   "metadata": {},
   "source": [
    "### 1096. 2차원 배열 - 바둑알에 흰 돌 놓기"
   ]
  },
  {
   "cell_type": "code",
   "execution_count": 3,
   "metadata": {},
   "outputs": [
    {
     "name": "stdout",
     "output_type": "stream",
     "text": [
      "5\n",
      "1 1\n",
      "2 2\n",
      "3 3\n",
      "4 4\n",
      "5 5\n",
      "1 0 0 0 0 0 0 0 0 0 0 0 0 0 0 0 0 0 0  \n",
      "0 1 0 0 0 0 0 0 0 0 0 0 0 0 0 0 0 0 0  \n",
      "0 0 1 0 0 0 0 0 0 0 0 0 0 0 0 0 0 0 0  \n",
      "0 0 0 1 0 0 0 0 0 0 0 0 0 0 0 0 0 0 0  \n",
      "0 0 0 0 1 0 0 0 0 0 0 0 0 0 0 0 0 0 0  \n",
      "0 0 0 0 0 0 0 0 0 0 0 0 0 0 0 0 0 0 0  \n",
      "0 0 0 0 0 0 0 0 0 0 0 0 0 0 0 0 0 0 0  \n",
      "0 0 0 0 0 0 0 0 0 0 0 0 0 0 0 0 0 0 0  \n",
      "0 0 0 0 0 0 0 0 0 0 0 0 0 0 0 0 0 0 0  \n",
      "0 0 0 0 0 0 0 0 0 0 0 0 0 0 0 0 0 0 0  \n",
      "0 0 0 0 0 0 0 0 0 0 0 0 0 0 0 0 0 0 0  \n",
      "0 0 0 0 0 0 0 0 0 0 0 0 0 0 0 0 0 0 0  \n",
      "0 0 0 0 0 0 0 0 0 0 0 0 0 0 0 0 0 0 0  \n",
      "0 0 0 0 0 0 0 0 0 0 0 0 0 0 0 0 0 0 0  \n",
      "0 0 0 0 0 0 0 0 0 0 0 0 0 0 0 0 0 0 0  \n",
      "0 0 0 0 0 0 0 0 0 0 0 0 0 0 0 0 0 0 0  \n",
      "0 0 0 0 0 0 0 0 0 0 0 0 0 0 0 0 0 0 0  \n",
      "0 0 0 0 0 0 0 0 0 0 0 0 0 0 0 0 0 0 0  \n",
      "0 0 0 0 0 0 0 0 0 0 0 0 0 0 0 0 0 0 0  \n"
     ]
    }
   ],
   "source": [
    "n = int(input())\n",
    "a = [[0 for j in range(20)] for i in range(20)]\n",
    "\n",
    "for i in range(n):\n",
    "    x, y = list(map(int, input().split()))\n",
    "    a[x][y] = 1\n",
    "for j in range(1, 20):\n",
    "    for k in range(1, 20):\n",
    "        print(a[j][k], end=\" \")\n",
    "    print(\" \")"
   ]
  },
  {
   "cell_type": "code",
   "execution_count": 12,
   "metadata": {},
   "outputs": [
    {
     "name": "stdout",
     "output_type": "stream",
     "text": [
      "5\n",
      "1 1\n",
      "2 2\n",
      "3 3\n",
      "4 4\n",
      "5 5\n",
      "1 0 0 0 0 0 0 0 0 0 0 0 0 0 0 0 0 0 0  \n",
      "0 1 0 0 0 0 0 0 0 0 0 0 0 0 0 0 0 0 0  \n",
      "0 0 1 0 0 0 0 0 0 0 0 0 0 0 0 0 0 0 0  \n",
      "0 0 0 1 0 0 0 0 0 0 0 0 0 0 0 0 0 0 0  \n",
      "0 0 0 0 1 0 0 0 0 0 0 0 0 0 0 0 0 0 0  \n",
      "0 0 0 0 0 0 0 0 0 0 0 0 0 0 0 0 0 0 0  \n",
      "0 0 0 0 0 0 0 0 0 0 0 0 0 0 0 0 0 0 0  \n",
      "0 0 0 0 0 0 0 0 0 0 0 0 0 0 0 0 0 0 0  \n",
      "0 0 0 0 0 0 0 0 0 0 0 0 0 0 0 0 0 0 0  \n",
      "0 0 0 0 0 0 0 0 0 0 0 0 0 0 0 0 0 0 0  \n",
      "0 0 0 0 0 0 0 0 0 0 0 0 0 0 0 0 0 0 0  \n",
      "0 0 0 0 0 0 0 0 0 0 0 0 0 0 0 0 0 0 0  \n",
      "0 0 0 0 0 0 0 0 0 0 0 0 0 0 0 0 0 0 0  \n",
      "0 0 0 0 0 0 0 0 0 0 0 0 0 0 0 0 0 0 0  \n",
      "0 0 0 0 0 0 0 0 0 0 0 0 0 0 0 0 0 0 0  \n",
      "0 0 0 0 0 0 0 0 0 0 0 0 0 0 0 0 0 0 0  \n",
      "0 0 0 0 0 0 0 0 0 0 0 0 0 0 0 0 0 0 0  \n",
      "0 0 0 0 0 0 0 0 0 0 0 0 0 0 0 0 0 0 0  \n",
      "0 0 0 0 0 0 0 0 0 0 0 0 0 0 0 0 0 0 0  \n"
     ]
    }
   ],
   "source": [
    "m = []\n",
    "for i in range(20):\n",
    "    m.append([])\n",
    "    for j in range(20):\n",
    "        m[i].append(0)\n",
    "\n",
    "n = int(input())\n",
    "for i in range(n):\n",
    "    x, y = input().split()\n",
    "    m[int(x)][int(y)] = 1\n",
    "    \n",
    "for i in range(1, 20):\n",
    "    for j in range(1, 20):\n",
    "        print(m[i][j], end=\" \")\n",
    "    print(\" \")\n",
    "    "
   ]
  },
  {
   "cell_type": "markdown",
   "metadata": {},
   "source": [
    "### 1097. 2차원 배열 - 바둑알 십자 뒤집기"
   ]
  },
  {
   "cell_type": "code",
   "execution_count": 2,
   "metadata": {},
   "outputs": [
    {
     "name": "stdout",
     "output_type": "stream",
     "text": [
      "0 0 0 0 0 0 0 0 0 1 0 1 0 0 0 0 0 0 0\n",
      "0 0 0 0 0 0 0 0 0 1 0 1 0 0 0 0 0 0 0\n",
      "0 0 0 0 0 0 0 0 0 1 0 1 0 0 0 0 0 0 0\n",
      "0 0 0 0 0 0 0 0 0 1 0 1 0 0 0 0 0 0 0\n",
      "0 0 0 0 0 0 0 0 0 1 0 1 0 0 0 0 0 0 0\n",
      "0 0 0 0 0 0 0 0 0 1 0 1 0 0 0 0 0 0 0\n",
      "0 0 0 0 0 0 0 0 0 1 0 1 0 0 0 0 0 0 0\n",
      "0 0 0 0 0 0 0 0 0 1 0 1 0 0 0 0 0 0 0\n",
      "0 0 0 0 0 0 0 0 0 1 0 1 0 0 0 0 0 0 0\n",
      "1 1 1 1 1 1 1 1 1 1 1 1 1 1 1 1 1 1 1\n",
      "0 0 0 0 0 0 0 0 0 1 0 1 0 0 0 0 0 0 0\n",
      "1 1 1 1 1 1 1 1 1 1 1 1 1 1 1 1 1 1 1\n",
      "0 0 0 0 0 0 0 0 0 1 0 1 0 0 0 0 0 0 0\n",
      "0 0 0 0 0 0 0 0 0 1 0 1 0 0 0 0 0 0 0\n",
      "0 0 0 0 0 0 0 0 0 1 0 1 0 0 0 0 0 0 0\n",
      "0 0 0 0 0 0 0 0 0 1 0 1 0 0 0 0 0 0 0\n",
      "0 0 0 0 0 0 0 0 0 1 0 1 0 0 0 0 0 0 0\n",
      "0 0 0 0 0 0 0 0 0 1 0 1 0 0 0 0 0 0 0\n",
      "0 0 0 0 0 0 0 0 0 1 0 1 0 0 0 0 0 0 0\n",
      "2\n",
      "10 10\n",
      "12 12\n",
      "0 0 0 0 0 0 0 0 0 0 0 0 0 0 0 0 0 0 0  \n",
      "0 0 0 0 0 0 0 0 0 0 0 0 0 0 0 0 0 0 0  \n",
      "0 0 0 0 0 0 0 0 0 0 0 0 0 0 0 0 0 0 0  \n",
      "0 0 0 0 0 0 0 0 0 0 0 0 0 0 0 0 0 0 0  \n",
      "0 0 0 0 0 0 0 0 0 0 0 0 0 0 0 0 0 0 0  \n",
      "0 0 0 0 0 0 0 0 0 0 0 0 0 0 0 0 0 0 0  \n",
      "0 0 0 0 0 0 0 0 0 0 0 0 0 0 0 0 0 0 0  \n",
      "0 0 0 0 0 0 0 0 0 0 0 0 0 0 0 0 0 0 0  \n",
      "0 0 0 0 0 0 0 0 0 0 0 0 0 0 0 0 0 0 0  \n",
      "0 0 0 0 0 0 0 0 0 1 0 1 0 0 0 0 0 0 0  \n",
      "0 0 0 0 0 0 0 0 0 0 0 0 0 0 0 0 0 0 0  \n",
      "0 0 0 0 0 0 0 0 0 1 0 1 0 0 0 0 0 0 0  \n",
      "0 0 0 0 0 0 0 0 0 0 0 0 0 0 0 0 0 0 0  \n",
      "0 0 0 0 0 0 0 0 0 0 0 0 0 0 0 0 0 0 0  \n",
      "0 0 0 0 0 0 0 0 0 0 0 0 0 0 0 0 0 0 0  \n",
      "0 0 0 0 0 0 0 0 0 0 0 0 0 0 0 0 0 0 0  \n",
      "0 0 0 0 0 0 0 0 0 0 0 0 0 0 0 0 0 0 0  \n",
      "0 0 0 0 0 0 0 0 0 0 0 0 0 0 0 0 0 0 0  \n",
      "0 0 0 0 0 0 0 0 0 0 0 0 0 0 0 0 0 0 0  \n"
     ]
    }
   ],
   "source": [
    "a = [[0 for j in range(20)] for i in range(20)]\n",
    "\n",
    "for i in range(19):\n",
    "    x = list(map(int, input().split()))\n",
    "    for j in range(19):\n",
    "        a[i+1][j+1] = x[j]\n",
    "\n",
    "n = int(input())\n",
    "\n",
    "for i in range(n):\n",
    "    x1, y1 = map(int, input().split())\n",
    "    for j in range(1, 20):\n",
    "        if a[x1][j] == 0:\n",
    "            a[x1][j] = 1\n",
    "        else:\n",
    "            a[x1][j] = 0\n",
    "            \n",
    "        if a[j][y1] == 0:\n",
    "            a[j][y1] = 1\n",
    "        else:\n",
    "            a[j][y1] = 0\n",
    "\n",
    "for i in range(1, 20):\n",
    "    for j in range(1, 20):\n",
    "        print(a[i][j], end= ' ')\n",
    "    print(' ')"
   ]
  },
  {
   "cell_type": "markdown",
   "metadata": {},
   "source": [
    "### 1098. 2차원 배열 - 설탕과자 뽑기"
   ]
  },
  {
   "cell_type": "code",
   "execution_count": 19,
   "metadata": {
    "scrolled": true
   },
   "outputs": [
    {
     "name": "stdout",
     "output_type": "stream",
     "text": [
      "5 5 \n",
      "4\n",
      "2 0 1 1\n",
      "3 1 2 3\n",
      "4 1 2 5\n",
      "1 1 5 4\n",
      "1 1 0 0 0  \n",
      "0 0 1 0 1  \n",
      "0 0 1 0 1  \n",
      "0 0 1 0 1  \n",
      "0 0 0 1 1  \n"
     ]
    }
   ],
   "source": [
    "h, w = map(int, input().split())\n",
    "a = [[0 for j in range(w+1)] for i in range(h+1)]\n",
    "\n",
    "n = int(input())\n",
    "\n",
    "for i in range(n):\n",
    "    l, d, x, y = map(int, input().split())\n",
    "    for j in range(l):\n",
    "        if d == 0:\n",
    "            a[x-1][y+j-1] = 1\n",
    "\n",
    "        if d == 1:\n",
    "            a[x+j-1][y-1] = 1\n",
    "\n",
    "            \n",
    "for i in range(h):\n",
    "    for j in range(w):\n",
    "        print(a[i][j], end = \" \")\n",
    "    print(\" \")"
   ]
  },
  {
   "cell_type": "code",
   "execution_count": 22,
   "metadata": {},
   "outputs": [
    {
     "name": "stdout",
     "output_type": "stream",
     "text": [
      "5 5 \n",
      "4\n",
      "2 0 1 1\n",
      "3 1 2 3\n",
      "4 1 2 5\n",
      "1 1 5 4\n",
      "1 1 0 0 0  \n",
      "0 0 1 0 1  \n",
      "0 0 1 0 1  \n",
      "0 0 1 0 1  \n",
      "0 0 0 1 1  \n"
     ]
    }
   ],
   "source": [
    "h, w = map(int, input().split())\n",
    "a = [[0 for j in range(w+1)] for i in range(h+1)]\n",
    "\n",
    "n = int(input())\n",
    "\n",
    "for i in range(n):\n",
    "    l, d, x, y = map(int, input().split())\n",
    "    for j in range(l):\n",
    "        if d == 0:\n",
    "            a[x][y+j] = 1\n",
    "\n",
    "        else:\n",
    "            a[x+j][y] = 1\n",
    "\n",
    "            \n",
    "for i in range(1, h+1):\n",
    "    for j in range(1, w+1):\n",
    "        print(a[i][j], end = \" \")\n",
    "    print(\" \")"
   ]
  },
  {
   "cell_type": "markdown",
   "metadata": {},
   "source": [
    "### 1099. 2차원 배열 - 성실한 개미"
   ]
  },
  {
   "cell_type": "markdown",
   "metadata": {},
   "source": [
    "### 다시 풀기~"
   ]
  },
  {
   "cell_type": "code",
   "execution_count": 3,
   "metadata": {},
   "outputs": [
    {
     "name": "stdout",
     "output_type": "stream",
     "text": [
      "1 1 1 1 1 1 1 1 1 1\n",
      "1 0 0 1 0 0 0 0 0 1\n",
      "1 0 0 1 1 1 0 0 0 1\n",
      "1 0 0 0 0 0 0 1 0 1\n",
      "1 0 0 0 0 0 0 1 0 1\n",
      "1 0 0 0 0 1 0 1 0 1\n",
      "1 0 0 0 0 1 2 1 0 1\n",
      "1 0 0 0 0 1 0 0 0 1\n",
      "1 0 0 0 0 0 0 0 0 1\n",
      "1 1 1 1 1 1 1 1 1 1\n",
      "1 1 1 1 1 1 1 1 1 1  \n",
      "1 9 9 1 0 0 0 0 0 1  \n",
      "1 0 9 1 1 1 0 0 0 1  \n",
      "1 0 9 9 9 9 9 1 0 1  \n",
      "1 0 0 0 0 0 9 1 0 1  \n",
      "1 0 0 0 0 1 9 1 0 1  \n",
      "1 0 0 0 0 1 9 1 0 1  \n",
      "1 0 0 0 0 1 0 0 0 1  \n",
      "1 0 0 0 0 0 0 0 0 1  \n",
      "1 1 1 1 1 1 1 1 1 1  \n"
     ]
    }
   ],
   "source": [
    "a = [[0 for j in range(11)] for i in range(11)]\n",
    "\n",
    "for i in range(10):\n",
    "    b = list(map(int, input().split()))\n",
    "    for j in range(10):\n",
    "        a[i+1][j+1] = b[j]\n",
    "        \n",
    "x = 2\n",
    "y = 2\n",
    "\n",
    "while True:\n",
    "    if a[x][y] == 0:\n",
    "        a[x][y] = 9\n",
    "    elif a[x][y] == 2:\n",
    "        a[x][y] = 9\n",
    "        break\n",
    "        \n",
    "    if (a[x][y+1] == 1 and a[x+1][y] == 1) or (x == 9 and y == 9):\n",
    "        break\n",
    "        \n",
    "    if a[x][y+1] != 1:\n",
    "        y += 1\n",
    "    elif a[x+1][y] != 1:\n",
    "        x += 1\n",
    "        \n",
    "for i in range(1, 11):\n",
    "    for j in range(1, 11):\n",
    "        print(a[i][j], end = ' ')\n",
    "    print(' ')"
   ]
  },
  {
   "cell_type": "code",
   "execution_count": null,
   "metadata": {},
   "outputs": [],
   "source": []
  }
 ],
 "metadata": {
  "kernelspec": {
   "display_name": "Python 3",
   "language": "python",
   "name": "python3"
  },
  "language_info": {
   "codemirror_mode": {
    "name": "ipython",
    "version": 3
   },
   "file_extension": ".py",
   "mimetype": "text/x-python",
   "name": "python",
   "nbconvert_exporter": "python",
   "pygments_lexer": "ipython3",
   "version": "3.8.3"
  }
 },
 "nbformat": 4,
 "nbformat_minor": 4
}
