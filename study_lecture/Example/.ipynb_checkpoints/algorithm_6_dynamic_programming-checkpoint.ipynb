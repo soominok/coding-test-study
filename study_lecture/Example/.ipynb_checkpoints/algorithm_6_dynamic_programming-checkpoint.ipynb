{
 "cells": [
  {
   "cell_type": "markdown",
   "metadata": {},
   "source": [
    "# DP"
   ]
  },
  {
   "cell_type": "markdown",
   "metadata": {},
   "source": [
    "## 개념\n",
    "- DP: Dynamic Programming\n",
    "- 이전의 값을 재활용 하는 알고리즘\n",
    "- 예시: 1~10 숫자 중, 각각 이전값들을 합한 값 구하기\n",
    "- 이전의 값을 활용해서 시간복잡도 줄일 수 있음"
   ]
  },
  {
   "cell_type": "markdown",
   "metadata": {},
   "source": [
    "## 중요!\n",
    "- 점화식: An = A(n-1) + A(n-2)\n",
    "- 점화식 없으면 DP 풀기 어려워서\n",
    "- 점화식 짜고 풀어야 함! (규칙 찾는게 중요함)"
   ]
  },
  {
   "cell_type": "markdown",
   "metadata": {},
   "source": [
    "## Tip\n",
    "- 어떻게 할지 모르겠을 땐, 하나씩 그려보면서 규칙 찾기\n",
    "- 점화식을 명확하게 세우고 코드 짜기!"
   ]
  },
  {
   "cell_type": "markdown",
   "metadata": {},
   "source": [
    "## <예시 유형 1> 타일링 (백준 11726)"
   ]
  },
  {
   "cell_type": "markdown",
   "metadata": {},
   "source": [
    "[아이디어]\n",
    "- A1: 1, A2: 2, A3: 1 + 2\n",
    "- An = A(n-1) + A(n-2)\n",
    "- for문으로 3부터 N까지 돌면서\n",
    "- 이전값과, 그 이전값을 더해서 저장(이때 10007로 나눈 나머지값)\n",
    "\n",
    "[시간복잡도]\n",
    "- for: N > O(N)\n",
    "\n",
    "[자료구조]\n",
    "- 방법의 수 배열(An): int[]\n",
    "    - 최대값: 10006 > INT 가능"
   ]
  },
  {
   "cell_type": "code",
   "execution_count": null,
   "metadata": {},
   "outputs": [],
   "source": [
    "\"\"\"\n",
    "1. 아이디어\n",
    "- 점화식: An = An-1 + An-2\n",
    "- N값 구하기 위해, for문 3부터 N까지의 값을 구해주기\n",
    "- 이전값, 이전이전값 더해서, 10007로 나눠 저장\n",
    "\n",
    "2. 시간복잡도\n",
    "- O(N)\n",
    "\n",
    "3. 자료구조\n",
    "- DP값 저장하는 (경우의 수) 배열 : int[]\n",
    "    - 최대값:100007보다 작음 > INT 가능\n",
    "\"\"\""
   ]
  },
  {
   "cell_type": "code",
   "execution_count": null,
   "metadata": {},
   "outputs": [],
   "source": [
    "import sys\n",
    "input = sys.stdin.readline\n",
    "\n",
    "n = int(input())\n",
    "rs = [0, 1, 2]\n",
    "\n",
    "for i in range(3, n+1):\n",
    "    rs.append((rs[i-1] + rs[i-2]) % 10007)\n",
    "\n",
    "print(rs[n])"
   ]
  }
 ],
 "metadata": {
  "kernelspec": {
   "display_name": "Python 3",
   "language": "python",
   "name": "python3"
  },
  "language_info": {
   "codemirror_mode": {
    "name": "ipython",
    "version": 3
   },
   "file_extension": ".py",
   "mimetype": "text/x-python",
   "name": "python",
   "nbconvert_exporter": "python",
   "pygments_lexer": "ipython3",
   "version": "3.8.5"
  }
 },
 "nbformat": 4,
 "nbformat_minor": 4
}
