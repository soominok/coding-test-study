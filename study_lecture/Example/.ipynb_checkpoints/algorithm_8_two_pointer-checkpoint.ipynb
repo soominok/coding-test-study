{
 "cells": [
  {
   "cell_type": "markdown",
   "id": "45b14a41",
   "metadata": {},
   "source": [
    "# 투포인터"
   ]
  },
  {
   "cell_type": "markdown",
   "id": "f08f966e",
   "metadata": {},
   "source": [
    "<처음 아이디어>\n",
    "- for문으로 각 숫자의 위치에서 이후 K개의 수를 더함\n",
    "- 이때마다 최대값으로 갱신\n",
    "\n",
    "<처음 시간복잡도>\n",
    "- for문: O(N)\n",
    "- 각 위치에서 K개의 값 더함: O(K)\n",
    "- 총: O(NK)\n",
    "\n",
    "\n",
    "[아이디어]\n",
    "- 처음에 K개의 값을 구함\n",
    "- for문: 다음 인덱스의 값을 더하고, 앞의 값을 뺌\n",
    "- 이때 최대값을 갱신\n",
    "\n",
    "[시간복잡도]\n",
    "- 숫자 개수만큼 => O(N)\n",
    "\n",
    "[자료구조]\n",
    "- 전체 정수 배열: int[]\n",
    "    - 수 모두 -100 ~ 100 > INT 가능\n",
    "- 합한 수: int\n",
    "    - 100 * 1e5 = 1e7 > INT 가능\n",
    "   "
   ]
  },
  {
   "cell_type": "markdown",
   "id": "d26af995",
   "metadata": {},
   "source": [
    "## <예시 유형 1> 수열"
   ]
  },
  {
   "cell_type": "code",
   "execution_count": 2,
   "id": "d21e36fa",
   "metadata": {},
   "outputs": [
    {
     "data": {
      "text/plain": [
       "'\\n1. 아이디어\\n- 투포인터를 활용\\n- for문으로 처음에 K개 값을 저장\\n- 다음 인덱스 더해주고, 이전 인덱스 빼줌\\n- 이때마다 최대값을 갱신\\n\\n2. 시간복잡도\\n- O(N) = 1e5 > 가능\\n\\n3. 자료구조\\n- 각 숫자들 N개 저장 배열: int[]\\n    - 숫자들 최대 100 > INT 가능\\n- K개의 값을 저장 변수: int\\n    - 최대 K * 100 = 1e5 * 100 = 1e7 > INT 가능\\n- 최대값: int\\n'"
      ]
     },
     "execution_count": 2,
     "metadata": {},
     "output_type": "execute_result"
    }
   ],
   "source": [
    "'''\n",
    "1. 아이디어\n",
    "- 투포인터를 활용\n",
    "- for문으로 처음에 K개 값을 저장\n",
    "- 다음 인덱스 더해주고, 이전 인덱스 빼줌\n",
    "- 이때마다 최대값을 갱신\n",
    "\n",
    "2. 시간복잡도\n",
    "- O(N) = 1e5 > 가능\n",
    "\n",
    "3. 자료구조\n",
    "- 각 숫자들 N개 저장 배열: int[]\n",
    "    - 숫자들 최대 100 > INT 가능\n",
    "- K개의 값을 저장 변수: int\n",
    "    - 최대 K * 100 = 1e5 * 100 = 1e7 > INT 가능\n",
    "- 최대값: int\n",
    "'''"
   ]
  },
  {
   "cell_type": "code",
   "execution_count": null,
   "id": "39795dfc",
   "metadata": {},
   "outputs": [],
   "source": [
    "import sys\n",
    "input = sys.stdin.readline\n",
    "\n",
    "n, k = map(int, input().split())\n",
    "nums = list(map(int, input().split()))\n",
    "each = 0\n",
    "\n",
    "# K개를 더해주기\n",
    "for i in range(K):\n",
    "    each += nums[i]\n",
    "    \n",
    "maxv = each\n",
    "\n",
    "# 다음인덱스 더해주고, 이전인덱스 빼주기\n",
    "for i in range(K, N):\n",
    "    each += nums[i]\n",
    "    each -= nums[i-k]\n",
    "    maxv = max(maxv, each)\n",
    "    \n",
    "print(maxv)"
   ]
  }
 ],
 "metadata": {
  "kernelspec": {
   "display_name": "Python 3",
   "language": "python",
   "name": "python3"
  },
  "language_info": {
   "codemirror_mode": {
    "name": "ipython",
    "version": 3
   },
   "file_extension": ".py",
   "mimetype": "text/x-python",
   "name": "python",
   "nbconvert_exporter": "python",
   "pygments_lexer": "ipython3",
   "version": "3.8.5"
  }
 },
 "nbformat": 4,
 "nbformat_minor": 5
}
