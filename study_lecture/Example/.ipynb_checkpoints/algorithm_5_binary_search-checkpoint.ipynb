{
 "cells": [
  {
   "cell_type": "markdown",
   "metadata": {},
   "source": [
    "# 이진 탐색 핵심 코드 (암기!)"
   ]
  },
  {
   "cell_type": "markdown",
   "metadata": {},
   "source": [
    "<처음 아이디어>\n",
    "- M개의 수마다 각각 어디에 있는지 찾기\n",
    "- for: M개의 수\n",
    "- for: N개의 수 안에 있는지 확인\n",
    "\n",
    "[아이디어]\n",
    "- M개를 확인해야하는데, 연속하다는 특징 활용 가능? => 불가 (연속한 경우에는 투포인터 활용)\n",
    "- 정렬해서 이진탐색 가능(찾아내는 문제)?\n",
    "    - N개의 수 먼저 정렬 (중요!!)\n",
    "    - M개의 수 하나씩 이진탐색으로 확인\n",
    "\n",
    "<처음 시간복잡도>\n",
    "- for: M개의 수 > O(M)\n",
    "- for: N개의 수안에 있는지 확인 > O(N)\n",
    "- O(MN) = 1e10 > 시간초과\n",
    "\n",
    "[시간복잡도]\n",
    "- N개의 수 정렬: O(N*lgN)\n",
    "- M개의 수 이진탐색: O(M*lgN)\n",
    "- O((N+M)lgN) = 2e5 * 20 = 4e6 => 가능\n",
    "* lgN = log2N => log(2)10^6 = log(2)2^20 = 20\n",
    "* (2^10)^2 = (10^3)^2\n",
    "\n",
    "[자료구조]\n",
    "- 탐색 대상 수: int[]\n",
    "    - 모든 수 범위: -2^31 ~ 2^31 > INT 가능\n",
    "- 탐색하려는 수: int[]\n",
    "    - 모든 수 범위: -2^31 ~ 2^31 > INT 가능"
   ]
  },
  {
   "cell_type": "markdown",
   "metadata": {},
   "source": [
    "### Tip!!!\n",
    "- 처음부터 생각하기 어려움, 쉬운방법(for문 2번)부터 생각\n",
    "    - 어떤값을 여러번 탐색해야 하는 경우\n",
    "- 입력의 개수가 1E5(10^5) 정도의 경우라면 의심"
   ]
  },
  {
   "cell_type": "code",
   "execution_count": null,
   "metadata": {},
   "outputs": [],
   "source": [
    "def search(st, en, target):\n",
    "    if st == en:\n",
    "        # ~~~ 결과값 출력\n",
    "        return \n",
    "    mid = (st + en) // 2\n",
    "    if nums[mid] < target:\n",
    "        search(mid + 1, en, target)\n",
    "    else:\n",
    "        search(st, mid, target)"
   ]
  },
  {
   "cell_type": "markdown",
   "metadata": {},
   "source": [
    "## <예시 유형 1> 떡볶이 떡 만들기"
   ]
  },
  {
   "cell_type": "code",
   "execution_count": 1,
   "metadata": {},
   "outputs": [
    {
     "name": "stdout",
     "output_type": "stream",
     "text": [
      "4 6\n",
      "19 15 10 17\n",
      "15\n"
     ]
    }
   ],
   "source": [
    "n, m = list(map(int, input().split()))\n",
    "array = list(map(int, input().split()))\n",
    "\n",
    "start = 0\n",
    "end = max(array)\n",
    "\n",
    "result = 0\n",
    "while(start <= end):\n",
    "    total = 0\n",
    "    mid = (start + end) // 2\n",
    "    for x in array:\n",
    "        # 잘랐을 때의 떡의 양 계산\n",
    "        if x > mid:\n",
    "            total += x - mid\n",
    "    # 떡의 양이 부족한 경우 더 많이 자르기 (왼쪽 부분 탐색)\n",
    "    if total < m:\n",
    "        end = mid - 1\n",
    "    else:\n",
    "        result = mid\n",
    "        start = mid + 1\n",
    "print(result)"
   ]
  },
  {
   "cell_type": "code",
   "execution_count": null,
   "metadata": {},
   "outputs": [],
   "source": [
    "# 아이디어 - 1) 이진탐색 2)\n",
    "# 시간복잡도 - O(logN)\n",
    "# 변수\n",
    "\n",
    "n, m = list(map(int, input().split()))\n",
    "array = list(map(int, input().split()))\n",
    "\n"
   ]
  },
  {
   "cell_type": "markdown",
   "metadata": {},
   "source": [
    "## <예시 유형 2> 수 찾기"
   ]
  },
  {
   "cell_type": "code",
   "execution_count": 2,
   "metadata": {},
   "outputs": [
    {
     "data": {
      "text/plain": [
       "'\\n1. 아이디어\\n- N개의 숫자를 정렬\\n- M개를 for 돌리면서, 이진탐색\\n- 이진탐색 안에서 마지막에 데이터 찾으면, 1출력, 아니면 0출력\\n\\n2. 시간복잡도\\n- N개 입력값 정렬 = O(NlgN)\\n- M개를 N개중에서 탐색 = O(M * lgN)\\n- 총합: O((N+M)lgN) > 가능\\n\\n3. 자료구조\\n- N개 숫자: int[]\\n- M개 숫자: int[]\\n'"
      ]
     },
     "execution_count": 2,
     "metadata": {},
     "output_type": "execute_result"
    }
   ],
   "source": [
    "'''\n",
    "1. 아이디어\n",
    "- N개의 숫자를 정렬\n",
    "- M개를 for 돌리면서, 이진탐색\n",
    "- 이진탐색 안에서 마지막에 데이터 찾으면, 1출력, 아니면 0출력\n",
    "\n",
    "2. 시간복잡도\n",
    "- N개 입력값 정렬 = O(NlgN)\n",
    "- M개를 N개중에서 탐색 = O(M * lgN)\n",
    "- 총합: O((N+M)lgN) > 가능\n",
    "\n",
    "3. 자료구조\n",
    "- N개 숫자: int[]\n",
    "- M개 숫자: int[]\n",
    "'''"
   ]
  },
  {
   "cell_type": "code",
   "execution_count": null,
   "metadata": {},
   "outputs": [],
   "source": [
    "import sys\n",
    "input = sys.stdin.readline\n",
    "\n",
    "N = int(input())\n",
    "nums = list(map(int, input().split()))\n",
    "M = int(input())\n",
    "target_list = list(map(int, input().split()))\n",
    "\n",
    "nums.sort() # 정렬해야 이진탐색 가능\n",
    "\n",
    "def search(st, en, target):\n",
    "    if st == en:\n",
    "        if nums[st] == target:\n",
    "            print(1)\n",
    "        else:\n",
    "            print(0)\n",
    "        return \n",
    "    mid = (st + en) // 2\n",
    "    if nums[mid] < target:\n",
    "        search(mid + 1, en, target)\n",
    "    else:\n",
    "        search(st, mid, target)\n",
    "        \n",
    "        \n",
    "for each_target in taget_list:\n",
    "    search(0, N-1, each_target)"
   ]
  }
 ],
 "metadata": {
  "kernelspec": {
   "display_name": "Python 3",
   "language": "python",
   "name": "python3"
  },
  "language_info": {
   "codemirror_mode": {
    "name": "ipython",
    "version": 3
   },
   "file_extension": ".py",
   "mimetype": "text/x-python",
   "name": "python",
   "nbconvert_exporter": "python",
   "pygments_lexer": "ipython3",
   "version": "3.8.5"
  }
 },
 "nbformat": 4,
 "nbformat_minor": 4
}
