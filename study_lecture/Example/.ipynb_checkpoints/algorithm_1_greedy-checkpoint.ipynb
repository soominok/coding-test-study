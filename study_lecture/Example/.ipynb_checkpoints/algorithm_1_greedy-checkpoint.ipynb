{
 "cells": [
  {
   "cell_type": "markdown",
   "metadata": {},
   "source": [
    "# 그리디 알고리즘 문제 (강의 13)\n",
    "### <이것이 취업을 위한 코딩테스트다> 유튜브 강의"
   ]
  },
  {
   "cell_type": "markdown",
   "metadata": {},
   "source": [
    "## <문제 1> 1이 될 때까지"
   ]
  },
  {
   "cell_type": "markdown",
   "metadata": {},
   "source": [
    "### 이 코드는 log 시간 복잡도여서 더 빨리 수행됨"
   ]
  },
  {
   "cell_type": "code",
   "execution_count": 7,
   "metadata": {},
   "outputs": [
    {
     "name": "stdout",
     "output_type": "stream",
     "text": [
      "29 6\n",
      "9\n"
     ]
    }
   ],
   "source": [
    "N, K = map(int,input().split())\n",
    "\n",
    "result = 0\n",
    "\n",
    "while True:\n",
    "    # N이 K로 나누어 떨어지는 수가 될 때까지 빼기\n",
    "    target = (N//K) * K\n",
    "#     print('target : ' + str(target))\n",
    "    result += (N - target)\n",
    "#     print('result : ' + str(result))\n",
    "    N = result\n",
    "    \n",
    "    # N이 K보다 작을 때 (더 이상 나눌 수 없을 때) 반복문 탈출\n",
    "    if N < K:\n",
    "        break\n",
    "    \n",
    "    # K로 나누기\n",
    "    result += 1\n",
    "    N //= K\n",
    "    \n",
    "# 마지막으로 남은 수에 대하여 1씩 빼기\n",
    "result += (N- 1)\n",
    "print(result)"
   ]
  },
  {
   "cell_type": "markdown",
   "metadata": {},
   "source": [
    "## <문제 2> 곱하기 혹은 더하기 - Facebook 인터뷰 기출"
   ]
  },
  {
   "cell_type": "code",
   "execution_count": 8,
   "metadata": {
    "scrolled": true
   },
   "outputs": [
    {
     "name": "stdout",
     "output_type": "stream",
     "text": [
      "0987\n",
      "504\n"
     ]
    }
   ],
   "source": [
    "S = input()\n",
    "\n",
    "# 첫 번째 문자를 숫자로 변경하여 대입\n",
    "result = int(S[0])\n",
    "\n",
    "for i in range(1, len(S)):\n",
    "    # 두 수 중에서 하나라도 '0' 혹은 '1'인 경우, 곱하기보다는 더하기 수행\n",
    "    num = int(S[i])\n",
    "    if num <= 1 or result <= 1:\n",
    "        result += num\n",
    "    else:\n",
    "        result *= num\n",
    "\n",
    "print(result)"
   ]
  },
  {
   "cell_type": "markdown",
   "metadata": {},
   "source": [
    "## <문제 3> 모험가 길드"
   ]
  },
  {
   "cell_type": "code",
   "execution_count": null,
   "metadata": {},
   "outputs": [],
   "source": [
    "N = int(input())\n",
    "data = list(map(int, input().split()))\n",
    "\n",
    "data.sort()\n",
    "\n",
    "result = 0 # 총 그룹의 수\n",
    "count = 0 # 현재 그룹에 포함된 모험가의 수\n",
    "# count 변수는 그룹이 결성될 때마다 0으로 초기화 됨\n",
    "\n",
    "for i in data: # 공포도를 낮은 것부터 하나씩 확인하며\n",
    "    count += 1 # 현재 그룹에 해당 모험가를 포함시키기\n",
    "    if count >= i: # 현재 그룹에 포함된 모험가의 수가 현재의 공포도 이상이라면, 그룹 결성\n",
    "        result += 1 # 총 그룹의 수 증가시키기\n",
    "        count = 0 # 현재 그룹에 포함된 모험가의 수 초기화\n",
    "        \n",
    "print(result) # 총 그룹의 수 출력"
   ]
  },
  {
   "cell_type": "code",
   "execution_count": null,
   "metadata": {},
   "outputs": [],
   "source": []
  },
  {
   "cell_type": "markdown",
   "metadata": {},
   "source": [
    "# -------- 한번 더 문제 풀기 ---------"
   ]
  },
  {
   "cell_type": "markdown",
   "metadata": {},
   "source": [
    "## <예시 유형 1> 1이 될 때까지"
   ]
  },
  {
   "cell_type": "code",
   "execution_count": 1,
   "metadata": {},
   "outputs": [
    {
     "name": "stdout",
     "output_type": "stream",
     "text": [
      "50 3\n",
      "target 값:\n",
      "48\n",
      "result 값 1:\n",
      "2\n",
      "n 값 1:\n",
      "48\n",
      "result 값 2:\n",
      "3\n",
      "n 값 2:\n",
      "16\n",
      "target 값:\n",
      "15\n",
      "result 값 1:\n",
      "4\n",
      "n 값 1:\n",
      "15\n",
      "result 값 2:\n",
      "5\n",
      "n 값 2:\n",
      "5\n",
      "target 값:\n",
      "3\n",
      "result 값 1:\n",
      "7\n",
      "n 값 1:\n",
      "3\n",
      "result 값 2:\n",
      "8\n",
      "n 값 2:\n",
      "1\n",
      "target 값:\n",
      "0\n",
      "result 값 1:\n",
      "9\n",
      "n 값 1:\n",
      "0\n",
      "result 값 3:\n",
      "8\n"
     ]
    }
   ],
   "source": [
    "n, k = map(int, input().split())\n",
    "result = 0\n",
    "\n",
    "while True:\n",
    "    target = (n // k) * k  # 나눈 몫에 k를 곱하면 가능한 최대 수 빠르게 구할 수 있음\n",
    "    result += (n - target)\n",
    "    n = target\n",
    "    \n",
    "    print('target 값:')\n",
    "    print(target)\n",
    "    print('result 값 1:')\n",
    "    print(result)\n",
    "    print('n 값 1:')\n",
    "    print(n)\n",
    "    \n",
    "    if n < k:\n",
    "        break\n",
    "    \n",
    "    result += 1\n",
    "    n //= k\n",
    "    \n",
    "    print('result 값 2:')\n",
    "    print(result)\n",
    "    print('n 값 2:')\n",
    "    print(n)\n",
    "    \n",
    "result += (n - 1)\n",
    "print('result 값 3:')\n",
    "print(result)\n"
   ]
  },
  {
   "cell_type": "markdown",
   "metadata": {},
   "source": [
    "## <예시 유형 2> 곱하기 혹은 더하기"
   ]
  },
  {
   "cell_type": "code",
   "execution_count": 9,
   "metadata": {},
   "outputs": [
    {
     "name": "stdout",
     "output_type": "stream",
     "text": [
      "02984\n",
      "2\n",
      "더하기\n",
      "2\n",
      "9\n",
      "곱하기\n",
      "18\n",
      "8\n",
      "곱하기\n",
      "144\n",
      "4\n",
      "곱하기\n",
      "576\n",
      "최종 result 값\n",
      "576\n"
     ]
    }
   ],
   "source": [
    "data = input()\n",
    "\n",
    "result = int(data[0])\n",
    "\n",
    "for idx in range(1, len(data)):\n",
    "    print(data[idx])\n",
    "    if (result == 0) or (result == 1):\n",
    "        result += int(data[idx])\n",
    "        print('더하기')\n",
    "        print(result)\n",
    "    else:\n",
    "        result *= int(data[idx])\n",
    "        print('곱하기')\n",
    "        print(result)  \n",
    "\n",
    "print('최종 result 값')\n",
    "print(result)"
   ]
  },
  {
   "cell_type": "code",
   "execution_count": null,
   "metadata": {},
   "outputs": [],
   "source": []
  }
 ],
 "metadata": {
  "kernelspec": {
   "display_name": "Python 3",
   "language": "python",
   "name": "python3"
  },
  "language_info": {
   "codemirror_mode": {
    "name": "ipython",
    "version": 3
   },
   "file_extension": ".py",
   "mimetype": "text/x-python",
   "name": "python",
   "nbconvert_exporter": "python",
   "pygments_lexer": "ipython3",
   "version": "3.8.5"
  }
 },
 "nbformat": 4,
 "nbformat_minor": 4
}
