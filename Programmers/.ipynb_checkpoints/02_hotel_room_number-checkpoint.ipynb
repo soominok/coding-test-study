{
 "cells": [
  {
   "cell_type": "markdown",
   "metadata": {},
   "source": [
    "## 2019 카카오 겨울 인턴십 코딩테스트"
   ]
  },
  {
   "cell_type": "markdown",
   "metadata": {},
   "source": [
    "#### https://tech.kakao.com/2020/04/01/2019-internship-test/"
   ]
  },
  {
   "cell_type": "markdown",
   "metadata": {},
   "source": [
    "## 호텔 방 배정"
   ]
  },
  {
   "cell_type": "markdown",
   "metadata": {},
   "source": [
    "### 정확도 78.8 / 효율성 0.0"
   ]
  },
  {
   "cell_type": "code",
   "execution_count": 14,
   "metadata": {},
   "outputs": [
    {
     "data": {
      "text/plain": [
       "[1, 3, 4, 2, 5, 6]"
      ]
     },
     "execution_count": 14,
     "metadata": {},
     "output_type": "execute_result"
    }
   ],
   "source": [
    "import sys\n",
    "input = sys.stdin.readline\n",
    "\n",
    "def solution(k, room_number):\n",
    "    answer = []\n",
    "    room_check = [0] * (k+1)\n",
    "    for room in room_number:\n",
    "        if room not in answer:\n",
    "            answer.append(room)\n",
    "            room_check[room] = 1\n",
    "        else:\n",
    "            for room_num in range(1, len(room_number) + 1):\n",
    "                unreserved_room = room + room_num\n",
    "                if room_check[unreserved_room] == 0: \n",
    "                    answer.append(unreserved_room)\n",
    "                    room_check[unreserved_room] = 1\n",
    "                    break\n",
    "    return answer\n",
    "\n",
    "solution(10, [1,3,4,1,3,1])"
   ]
  },
  {
   "cell_type": "markdown",
   "metadata": {},
   "source": [
    "#### https://m.blog.naver.com/js568/221957852279\n",
    "#### https://hellominchan.tistory.com/261"
   ]
  },
  {
   "cell_type": "code",
   "execution_count": 19,
   "metadata": {},
   "outputs": [],
   "source": [
    "import sys\n",
    "sys.setrecursionlimit(1000000)\n",
    "\n",
    "def solution(k, room_number):\n",
    "    room = {}\n",
    "    answer = []\n",
    "    for i in room_number:\n",
    "        empty_room = find_empty_room(room,i)\n",
    "        answer.append(empty_room)\n",
    "    return answer\n",
    "\n",
    "\n",
    "def find_empty_room(room,i):\n",
    "    if i not in room:\n",
    "        room[i] = i+1\n",
    "        return i\n",
    "    else:\n",
    "        empty_room = find_empty_room(room,room[i])\n",
    "        room[i] = empty_room+1\n",
    "        return empty_room"
   ]
  },
  {
   "cell_type": "code",
   "execution_count": 20,
   "metadata": {},
   "outputs": [
    {
     "data": {
      "text/plain": [
       "[1, 3, 4, 2, 5, 6]"
      ]
     },
     "execution_count": 20,
     "metadata": {},
     "output_type": "execute_result"
    }
   ],
   "source": [
    "solution(10, [1,3,4,1,3,1])"
   ]
  },
  {
   "cell_type": "code",
   "execution_count": 30,
   "metadata": {},
   "outputs": [],
   "source": [
    "def solution(k, room_number):\n",
    "    answer = []\n",
    "    room_dict = {}\n",
    "    for room_num in room_number:\n",
    "        num = room_num\n",
    "        reserved = [num]\n",
    "        while num in room_dict:\n",
    "            num = room_dict[num]\n",
    "            reserved.append(num)\n",
    "        answer.append(num)\n",
    "        for r in reserved:\n",
    "            room_dict[r] = r+1\n",
    "    return answer"
   ]
  },
  {
   "cell_type": "code",
   "execution_count": 31,
   "metadata": {},
   "outputs": [
    {
     "data": {
      "text/plain": [
       "[1, 3, 4, 2, 5, 6]"
      ]
     },
     "execution_count": 31,
     "metadata": {},
     "output_type": "execute_result"
    }
   ],
   "source": [
    "solution(10, [1,3,4,1,3,1])"
   ]
  },
  {
   "cell_type": "code",
   "execution_count": 34,
   "metadata": {},
   "outputs": [],
   "source": [
    "import sys\n",
    "sys.setrecursionlimit(10000000)\n",
    "\n",
    "def find_empty_room(check, room):\n",
    "    if check not in room:\n",
    "        room[check] = check + 1\n",
    "        return check\n",
    "    empty_room = find_empty_room(room[check], room)\n",
    "    room[check] = empty_room + 1\n",
    "    return empty_room\n",
    "\n",
    "def solution(k, room_number):\n",
    "    answer = []\n",
    "    rooms = {}\n",
    "    for check_num in room_number:\n",
    "        empty_room = find_empty_room(check_num, rooms)\n",
    "        answer.append(empty_room)\n",
    "    return answer"
   ]
  },
  {
   "cell_type": "code",
   "execution_count": 35,
   "metadata": {},
   "outputs": [
    {
     "data": {
      "text/plain": [
       "[1, 3, 4, 2, 5, 6]"
      ]
     },
     "execution_count": 35,
     "metadata": {},
     "output_type": "execute_result"
    }
   ],
   "source": [
    "solution(10, [1,3,4,1,3,1])"
   ]
  },
  {
   "cell_type": "code",
   "execution_count": null,
   "metadata": {},
   "outputs": [],
   "source": []
  }
 ],
 "metadata": {
  "kernelspec": {
   "display_name": "Python 3",
   "language": "python",
   "name": "python3"
  },
  "language_info": {
   "codemirror_mode": {
    "name": "ipython",
    "version": 3
   },
   "file_extension": ".py",
   "mimetype": "text/x-python",
   "name": "python",
   "nbconvert_exporter": "python",
   "pygments_lexer": "ipython3",
   "version": "3.8.5"
  }
 },
 "nbformat": 4,
 "nbformat_minor": 4
}
