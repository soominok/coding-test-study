{
 "cells": [
  {
   "cell_type": "markdown",
   "id": "cb2b8a06",
   "metadata": {},
   "source": [
    "- https://school.programmers.co.kr/learn/courses/30/lessons/72412"
   ]
  },
  {
   "cell_type": "code",
   "execution_count": 40,
   "id": "c62e2135",
   "metadata": {},
   "outputs": [],
   "source": [
    "# 성공 (다시 풀어보기!)\n",
    "\n",
    "from itertools import combinations\n",
    "from bisect import bisect_left\n",
    "\n",
    "def solution(info, query):\n",
    "    answer = []\n",
    "    result = {}\n",
    "    \n",
    "    for one_i in info:\n",
    "        i = one_i.split(' ')\n",
    "        key = i[:-1]\n",
    "        val = i[-1]\n",
    "        \n",
    "        for i in range(5):\n",
    "            for c in combinations(key, i):\n",
    "                tmp = ''.join(c)\n",
    "                if tmp in result:\n",
    "                    result[tmp].append(int(val))\n",
    "                else:\n",
    "                    result[tmp] = [int(val)]\n",
    "                    \n",
    "    for k in result:\n",
    "        result[k].sort()\n",
    "        \n",
    "    for q in query:\n",
    "        qu = q.split(' ')\n",
    "        qu_key = qu[:-1]\n",
    "        qu_val = qu[-1]\n",
    "        \n",
    "        while 'and' in qu_key:\n",
    "            qu_key.remove('and')\n",
    "        while '-' in qu_key:\n",
    "            qu_key.remove('-')\n",
    "        qu_key = ''.join(qu_key)\n",
    "        \n",
    "        if qu_key in result: \n",
    "            scores = result[qu_key]\n",
    "\n",
    "            if scores:  \n",
    "                enter = bisect_left(scores, int(qu_val))\n",
    "\n",
    "                answer.append(len(scores) - enter)\n",
    "        else:\n",
    "            answer.append(0)\n",
    "    \n",
    "    return answer"
   ]
  },
  {
   "cell_type": "code",
   "execution_count": 27,
   "id": "3c0d2b32",
   "metadata": {},
   "outputs": [],
   "source": [
    "def solution(info, query):\n",
    "    answer = []\n",
    "    \n",
    "    result = {}\n",
    "    \n",
    "    for one_q in query:\n",
    "        cnt = 0\n",
    "        one_q_list = one_q.replace(' and', '').split(' ')\n",
    "        print(one_q_list)\n",
    "        print()\n",
    "        for one in info:\n",
    "            one_list = one.split(' ')\n",
    "            if (one_q_list[0] in (one_list[0], '-')) and (one_q_list[1] in (one_list[1], '-')) and (one_q_list[2] in (one_list[2], '-')) and (one_q_list[3] in (one_list[3], '-')) and (int(one_q_list[4]) <= int(one_list[4])):\n",
    "                cnt += 1\n",
    "        answer.append(cnt)\n",
    "    \n",
    "    return answer"
   ]
  },
  {
   "cell_type": "code",
   "execution_count": 41,
   "id": "75073b61",
   "metadata": {},
   "outputs": [
    {
     "data": {
      "text/plain": [
       "[1, 1, 1, 1, 2, 4]"
      ]
     },
     "execution_count": 41,
     "metadata": {},
     "output_type": "execute_result"
    }
   ],
   "source": [
    "info = [\"java backend junior pizza 150\",\"python frontend senior chicken 210\",\"python frontend senior chicken 150\",\"cpp backend senior pizza 260\",\"java backend junior chicken 80\",\"python backend senior chicken 50\"]\n",
    "query = [\"java and backend and junior and pizza 100\",\"python and frontend and senior and chicken 200\",\"cpp and - and senior and pizza 250\",\"- and backend and senior and - 150\",\"- and - and - and chicken 100\",\"- and - and - and - 150\"]\n",
    "\n",
    "solution(info, query)"
   ]
  },
  {
   "cell_type": "markdown",
   "id": "892af4d2",
   "metadata": {},
   "source": [
    "[1,1,1,1,2,4]"
   ]
  },
  {
   "cell_type": "code",
   "execution_count": null,
   "id": "f07584f0",
   "metadata": {},
   "outputs": [],
   "source": []
  }
 ],
 "metadata": {
  "kernelspec": {
   "display_name": "Python 3 (ipykernel)",
   "language": "python",
   "name": "python3"
  },
  "language_info": {
   "codemirror_mode": {
    "name": "ipython",
    "version": 3
   },
   "file_extension": ".py",
   "mimetype": "text/x-python",
   "name": "python",
   "nbconvert_exporter": "python",
   "pygments_lexer": "ipython3",
   "version": "3.9.13"
  }
 },
 "nbformat": 4,
 "nbformat_minor": 5
}
