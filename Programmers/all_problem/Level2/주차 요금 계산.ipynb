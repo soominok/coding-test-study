{
 "cells": [
  {
   "cell_type": "markdown",
   "id": "026d02ef",
   "metadata": {},
   "source": [
    "- https://school.programmers.co.kr/learn/courses/30/lessons/92341"
   ]
  },
  {
   "cell_type": "code",
   "execution_count": 101,
   "id": "4a1b7427",
   "metadata": {},
   "outputs": [],
   "source": [
    "import math\n",
    "\n",
    "def solution(fees, records):\n",
    "    answer = []\n",
    "    \n",
    "    result = {}\n",
    "    time_list = []\n",
    "    diff = 0\n",
    "    \n",
    "    car_in = {}\n",
    "    \n",
    "    for record in records:\n",
    "        time = record.split(' ')[0]\n",
    "        car_num = record.split(' ')[1]\n",
    "        park_type = record.split(' ')[2]\n",
    "        \n",
    "        if park_type == 'IN':\n",
    "            car_in[car_num] = time\n",
    "\n",
    "        elif park_type == 'OUT':\n",
    "            diff = (int(time[:2]) - int(car_in[car_num][:2])) * 60 + (int(time[3:5]) - int(car_in[car_num][3:5]))\n",
    "\n",
    "            if car_num in result:\n",
    "                result[car_num] += diff\n",
    "            else:\n",
    "                result[car_num] = diff\n",
    "            car_in.pop(car_num, None)\n",
    "\n",
    "        \n",
    "    if len(car_in) != 0:\n",
    "        for car_num, car_time in car_in.items():\n",
    "            diff = (23 - int(car_time[:2])) * 60 + (59 - int(car_time[3:5]))\n",
    "\n",
    "            if car_num in result:\n",
    "                result[car_num] += diff\n",
    "            else:\n",
    "                result[car_num] = diff\n",
    "        car_in.pop(car_num, None)\n",
    "        \n",
    "        \n",
    "    for car_one, total_time in dict(sorted(result.items())).items():\n",
    "        total_price = 0\n",
    "        print(car_one)\n",
    "        if total_time > fees[0]:\n",
    "            total_price = (fees[1] + math.ceil((total_time - fees[0])/fees[2]) * fees[3])\n",
    "        else:\n",
    "            total_price = fees[1]\n",
    "            \n",
    "        answer.append(total_price)\n",
    "        \n",
    "    print(answer)\n",
    "    return answer"
   ]
  },
  {
   "cell_type": "code",
   "execution_count": 102,
   "id": "6e0fb52d",
   "metadata": {},
   "outputs": [],
   "source": [
    "fees_1 = [180, 5000, 10, 600]\n",
    "records_1 = [\"05:34 5961 IN\", \"06:00 0000 IN\", \"06:34 0000 OUT\", \"07:59 5961 OUT\", \"07:59 0148 IN\", \"18:59 0000 IN\", \"19:09 0148 OUT\", \"22:59 5961 IN\", \"23:00 5961 OUT\"]\n",
    "\n",
    "fees_2 = [120, 0, 60, 591]\n",
    "records_2 = [\"16:00 3961 IN\",\"16:00 0202 IN\",\"18:00 3961 OUT\",\"18:00 0202 OUT\",\"23:58 3961 IN\"]"
   ]
  },
  {
   "cell_type": "code",
   "execution_count": 103,
   "id": "af1dbf0d",
   "metadata": {},
   "outputs": [
    {
     "name": "stdout",
     "output_type": "stream",
     "text": [
      "0000\n",
      "0148\n",
      "5961\n",
      "[14600, 34400, 5000]\n"
     ]
    },
    {
     "data": {
      "text/plain": [
       "[14600, 34400, 5000]"
      ]
     },
     "execution_count": 103,
     "metadata": {},
     "output_type": "execute_result"
    }
   ],
   "source": [
    "solution(fees_1, records_1)"
   ]
  },
  {
   "cell_type": "code",
   "execution_count": null,
   "id": "e26ccd12",
   "metadata": {},
   "outputs": [],
   "source": []
  },
  {
   "cell_type": "code",
   "execution_count": null,
   "id": "a2cab122",
   "metadata": {},
   "outputs": [],
   "source": []
  }
 ],
 "metadata": {
  "kernelspec": {
   "display_name": "Python 3 (ipykernel)",
   "language": "python",
   "name": "python3"
  },
  "language_info": {
   "codemirror_mode": {
    "name": "ipython",
    "version": 3
   },
   "file_extension": ".py",
   "mimetype": "text/x-python",
   "name": "python",
   "nbconvert_exporter": "python",
   "pygments_lexer": "ipython3",
   "version": "3.9.12"
  }
 },
 "nbformat": 4,
 "nbformat_minor": 5
}
