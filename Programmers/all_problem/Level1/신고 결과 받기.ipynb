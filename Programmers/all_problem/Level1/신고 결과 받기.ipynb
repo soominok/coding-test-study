{
 "cells": [
  {
   "cell_type": "code",
   "execution_count": null,
   "id": "cd176e0a",
   "metadata": {},
   "outputs": [],
   "source": [
    "import pandas as pd\n",
    "import numpy as np\n",
    "\n",
    "def solution(id_list, report, k):\n",
    "    answer = []\n",
    "    for report_one in report:\n",
    "        print(report_one)\n",
    "        do_report_id = report_one.split(\" \")[0]\n",
    "        get_report_id = report_one.split(\" \")[1]\n",
    "        for user_id in id_list:\n",
    "            print(user_id)\n",
    "            \n",
    "            \n",
    "\n",
    "    \n",
    "    return answer"
   ]
  },
  {
   "cell_type": "code",
   "execution_count": 2,
   "id": "40ed65a1",
   "metadata": {},
   "outputs": [
    {
     "name": "stdout",
     "output_type": "stream",
     "text": [
      "a\n"
     ]
    }
   ],
   "source": [
    "a = \"a b\"\n",
    "id_one = a.split(\" \")[0]\n",
    "print(id_one)"
   ]
  },
  {
   "cell_type": "code",
   "execution_count": null,
   "id": "b593c81b",
   "metadata": {},
   "outputs": [],
   "source": [
    "solution([\"muzi\", \"frodo\", \"apeach\", \"neo\"], [\"muzi frodo\",\"apeach frodo\",\"frodo neo\",\"muzi neo\",\"apeach muzi\"], 2)"
   ]
  }
 ],
 "metadata": {
  "kernelspec": {
   "display_name": "Python 3",
   "language": "python",
   "name": "python3"
  },
  "language_info": {
   "codemirror_mode": {
    "name": "ipython",
    "version": 3
   },
   "file_extension": ".py",
   "mimetype": "text/x-python",
   "name": "python",
   "nbconvert_exporter": "python",
   "pygments_lexer": "ipython3",
   "version": "3.8.5"
  }
 },
 "nbformat": 4,
 "nbformat_minor": 5
}
