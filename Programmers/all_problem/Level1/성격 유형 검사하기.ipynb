{
 "cells": [
  {
   "cell_type": "markdown",
   "id": "29203468",
   "metadata": {},
   "source": [
    "- https://school.programmers.co.kr/learn/courses/30/lessons/118666\n",
    "- 2022 카카오 테크 인턴십"
   ]
  },
  {
   "cell_type": "code",
   "execution_count": 31,
   "id": "0ab3f8a1",
   "metadata": {},
   "outputs": [],
   "source": [
    "def solution(survey, choices):\n",
    "    answer = ''\n",
    "    \n",
    "    result = {'R': 0, 'T': 0, 'C': 0, 'F': 0, 'J': 0, 'M': 0, 'A': 0, 'N': 0}\n",
    "    chart = [3,2,1,0,1,2,3]\n",
    "    \n",
    "    for i in range(len(survey)):\n",
    "        if choices[i] <= 3:\n",
    "            result[survey[i][0]] += chart[choices[i]-1]\n",
    "        elif choices[i] >= 5:\n",
    "            result[survey[i][1]] += chart[choices[i]-1]\n",
    "\n",
    "    print(result)\n",
    "    \n",
    "    if result['R'] >= result['T']:\n",
    "        r_1 = 'R'\n",
    "    elif result['R'] < result['T']:\n",
    "        r_1 =  'T'\n",
    "        \n",
    "    if result['C'] >= result['F']:\n",
    "        r_2 = 'C'\n",
    "    elif result['C'] < result['F']:\n",
    "        r_2 = 'F'\n",
    "        \n",
    "    if result['J'] >= result['M']:\n",
    "        r_3 = 'J'\n",
    "    elif result['J'] < result['M']:\n",
    "        r_3 = 'M'\n",
    "        \n",
    "    if result['A'] >= result['N']:\n",
    "        r_4 = 'A'\n",
    "    elif result['A'] < result['N']:\n",
    "        r_4 = 'N'\n",
    "    \n",
    "    answer = r_1 + r_2 + r_3 + r_4\n",
    "    \n",
    "    return answer"
   ]
  },
  {
   "cell_type": "code",
   "execution_count": 32,
   "id": "9ba3e14c",
   "metadata": {},
   "outputs": [
    {
     "name": "stdout",
     "output_type": "stream",
     "text": [
      "{'R': 0, 'T': 3, 'C': 1, 'F': 0, 'J': 0, 'M': 2, 'A': 1, 'N': 1}\n"
     ]
    },
    {
     "data": {
      "text/plain": [
       "'TCMA'"
      ]
     },
     "execution_count": 32,
     "metadata": {},
     "output_type": "execute_result"
    }
   ],
   "source": [
    "solution([\"AN\", \"CF\", \"MJ\", \"RT\", \"NA\"], [5, 3, 2, 7, 5])"
   ]
  },
  {
   "cell_type": "code",
   "execution_count": 33,
   "id": "676e8b8c",
   "metadata": {},
   "outputs": [
    {
     "name": "stdout",
     "output_type": "stream",
     "text": [
      "{'R': 6, 'T': 1, 'C': 0, 'F': 0, 'J': 0, 'M': 0, 'A': 0, 'N': 0}\n"
     ]
    },
    {
     "data": {
      "text/plain": [
       "'RCJA'"
      ]
     },
     "execution_count": 33,
     "metadata": {},
     "output_type": "execute_result"
    }
   ],
   "source": [
    "solution([\"TR\", \"RT\", \"TR\"], [7, 1, 3])"
   ]
  },
  {
   "cell_type": "code",
   "execution_count": null,
   "id": "7d2b367d",
   "metadata": {},
   "outputs": [],
   "source": []
  }
 ],
 "metadata": {
  "kernelspec": {
   "display_name": "Python 3 (ipykernel)",
   "language": "python",
   "name": "python3"
  },
  "language_info": {
   "codemirror_mode": {
    "name": "ipython",
    "version": 3
   },
   "file_extension": ".py",
   "mimetype": "text/x-python",
   "name": "python",
   "nbconvert_exporter": "python",
   "pygments_lexer": "ipython3",
   "version": "3.9.13"
  }
 },
 "nbformat": 4,
 "nbformat_minor": 5
}
