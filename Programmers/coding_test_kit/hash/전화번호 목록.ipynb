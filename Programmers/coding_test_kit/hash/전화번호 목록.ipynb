{
 "cells": [
  {
   "cell_type": "markdown",
   "metadata": {},
   "source": [
    "## 첫번째 시도"
   ]
  },
  {
   "cell_type": "code",
   "execution_count": 2,
   "metadata": {},
   "outputs": [
    {
     "name": "stdout",
     "output_type": "stream",
     "text": [
      "2\n",
      "12\n"
     ]
    }
   ],
   "source": [
    "phone = ['123', '456']\n",
    "\n",
    "print(phone[0][1])\n",
    "print(phone[0][:2])"
   ]
  },
  {
   "cell_type": "code",
   "execution_count": 15,
   "metadata": {},
   "outputs": [
    {
     "name": "stdout",
     "output_type": "stream",
     "text": [
      "phone_list ['119', '1195524421', '97674223']\n",
      "119\n",
      "phone_list: 119\n",
      "119\n",
      "phone_list: 195\n",
      "119\n",
      "phone_list: 955\n",
      "119\n",
      "phone_list: 552\n",
      "119\n",
      "phone_list: 524\n",
      "119\n",
      "phone_list: 244\n",
      "119\n",
      "phone_list: 442\n",
      "119\n",
      "phone_list: 421\n",
      "119\n",
      "phone_list: 21\n",
      "119\n",
      "phone_list: 1\n",
      "119\n",
      "phone_list: 976\n",
      "119\n",
      "phone_list: 767\n",
      "119\n",
      "phone_list: 674\n",
      "119\n",
      "phone_list: 742\n",
      "119\n",
      "phone_list: 422\n",
      "119\n",
      "phone_list: 223\n",
      "119\n",
      "phone_list: 23\n",
      "119\n",
      "phone_list: 3\n"
     ]
    }
   ],
   "source": [
    "phone_list = sorted([\"119\", \"97674223\", \"1195524421\"])\n",
    "print('phone_list', phone_list)\n",
    "answer = True\n",
    "for i in range(1, len(phone_list)):\n",
    "    start = 0\n",
    "    for j in range(len(phone_list[i])):\n",
    "        print(phone_list[0])\n",
    "        print('phone_list:', phone_list[i][start:start +len(phone_list[0])])\n",
    "        start += 1"
   ]
  },
  {
   "cell_type": "code",
   "execution_count": null,
   "metadata": {},
   "outputs": [],
   "source": []
  }
 ],
 "metadata": {
  "kernelspec": {
   "display_name": "Python 3",
   "language": "python",
   "name": "python3"
  },
  "language_info": {
   "codemirror_mode": {
    "name": "ipython",
    "version": 3
   },
   "file_extension": ".py",
   "mimetype": "text/x-python",
   "name": "python",
   "nbconvert_exporter": "python",
   "pygments_lexer": "ipython3",
   "version": "3.8.5"
  }
 },
 "nbformat": 4,
 "nbformat_minor": 4
}
