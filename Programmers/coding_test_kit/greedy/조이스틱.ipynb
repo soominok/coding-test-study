{
 "cells": [
  {
   "cell_type": "code",
   "execution_count": null,
   "metadata": {},
   "outputs": [],
   "source": [
    "def solution(name):\n",
    "    answer = len(name) - 1\n",
    "    for name_list in name:\n",
    "        name_num = ord(name_list)\n",
    "        if name_num < ord(\"N\"):\n",
    "            name_num = ord(name_list) - 65\n",
    "            answer += name_num\n",
    "        else:\n",
    "            name_num = 90 - ord(name_list) + 1\n",
    "            answer += name_num\n",
    "    return answer"
   ]
  }
 ],
 "metadata": {
  "kernelspec": {
   "display_name": "Python 3",
   "language": "python",
   "name": "python3"
  },
  "language_info": {
   "codemirror_mode": {
    "name": "ipython",
    "version": 3
   },
   "file_extension": ".py",
   "mimetype": "text/x-python",
   "name": "python",
   "nbconvert_exporter": "python",
   "pygments_lexer": "ipython3",
   "version": "3.8.5"
  }
 },
 "nbformat": 4,
 "nbformat_minor": 4
}
