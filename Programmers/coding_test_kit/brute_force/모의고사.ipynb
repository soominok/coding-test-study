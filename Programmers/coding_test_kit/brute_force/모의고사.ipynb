{
 "cells": [
  {
   "cell_type": "markdown",
   "metadata": {},
   "source": [
    "## 첫번째 시도"
   ]
  },
  {
   "cell_type": "markdown",
   "metadata": {},
   "source": [
    "채점 결과\n",
    "\n",
    "정확성: 21.4\n",
    "\n",
    "합계: 21.4 / 100.0"
   ]
  },
  {
   "cell_type": "code",
   "execution_count": 27,
   "metadata": {},
   "outputs": [],
   "source": [
    "def solution(answers):\n",
    "    answer = []\n",
    "    person1 = [1, 2, 3, 4, 5]\n",
    "    person2 = [2, 1, 2, 3, 2, 4, 2, 5]\n",
    "    person3 = [3, 3, 1, 1, 2, 2, 4, 4, 5, 5]\n",
    "    cnt = [0, 0, 0]\n",
    "    for num in range(len(answers)):\n",
    "        if answers[num] == person1[num]:\n",
    "            cnt[0] += 1\n",
    "        if answers[num] == person2[num]:\n",
    "            cnt[1] += 1\n",
    "        if answers[num] == person3[num]:\n",
    "            cnt[2] += 1\n",
    "    print(cnt)\n",
    "    print(cnt.index(max(cnt))+1)\n",
    "    for person, score in enumerate(cnt):\n",
    "        if score == max(cnt):\n",
    "            answer.append(person+1)\n",
    "    return answer"
   ]
  },
  {
   "cell_type": "code",
   "execution_count": 28,
   "metadata": {},
   "outputs": [
    {
     "name": "stdout",
     "output_type": "stream",
     "text": [
      "[5, 0, 0]\n",
      "1\n"
     ]
    },
    {
     "data": {
      "text/plain": [
       "[1]"
      ]
     },
     "execution_count": 28,
     "metadata": {},
     "output_type": "execute_result"
    }
   ],
   "source": [
    "solution([1,2,3,4,5])"
   ]
  },
  {
   "cell_type": "code",
   "execution_count": 29,
   "metadata": {},
   "outputs": [
    {
     "name": "stdout",
     "output_type": "stream",
     "text": [
      "[2, 2, 2]\n",
      "1\n"
     ]
    },
    {
     "data": {
      "text/plain": [
       "[1, 2, 3]"
      ]
     },
     "execution_count": 29,
     "metadata": {},
     "output_type": "execute_result"
    }
   ],
   "source": [
    "solution([1,3,2,4,2])"
   ]
  },
  {
   "cell_type": "code",
   "execution_count": 25,
   "metadata": {},
   "outputs": [
    {
     "name": "stdout",
     "output_type": "stream",
     "text": [
      "0\n",
      "0\n",
      "1\n",
      "1\n",
      "2\n",
      "2\n"
     ]
    }
   ],
   "source": [
    "cnt = [0, 1, 2]\n",
    "for a, b in enumerate(cnt):\n",
    "    print(a)\n",
    "    print(b)"
   ]
  },
  {
   "cell_type": "markdown",
   "metadata": {},
   "source": [
    "https://wooaoe.tistory.com/65"
   ]
  },
  {
   "cell_type": "markdown",
   "metadata": {},
   "source": [
    "## 두번째 시도"
   ]
  },
  {
   "cell_type": "markdown",
   "metadata": {},
   "source": [
    "정확성: 21.4\n",
    "\n",
    "합계: 21.4 / 100.0"
   ]
  },
  {
   "cell_type": "code",
   "execution_count": 30,
   "metadata": {},
   "outputs": [],
   "source": [
    "def solution(answers):\n",
    "    answer = []\n",
    "    person1 = [1, 2, 3, 4, 5]\n",
    "    person2 = [2, 1, 2, 3, 2, 4, 2, 5]\n",
    "    person3 = [3, 3, 1, 1, 2, 2, 4, 4, 5, 5]\n",
    "    cnt = [0, 0, 0]\n",
    "    for num in range(len(answers)):\n",
    "        if answers[num] == person1[num]:\n",
    "            cnt[0] += 1\n",
    "        if answers[num] == person2[num]:\n",
    "            cnt[1] += 1\n",
    "        if answers[num] == person3[num]:\n",
    "            cnt[2] += 1\n",
    "    print(cnt)\n",
    "    print(cnt.index(max(cnt))+1)\n",
    "    for cnt_num in range(len(cnt)):\n",
    "        if cnt[cnt_num] == max(cnt):\n",
    "            answer.append(cnt_num+1)\n",
    "    return answer"
   ]
  },
  {
   "cell_type": "code",
   "execution_count": 31,
   "metadata": {},
   "outputs": [
    {
     "name": "stdout",
     "output_type": "stream",
     "text": [
      "[5, 0, 0]\n",
      "1\n"
     ]
    },
    {
     "data": {
      "text/plain": [
       "[1]"
      ]
     },
     "execution_count": 31,
     "metadata": {},
     "output_type": "execute_result"
    }
   ],
   "source": [
    "solution([1,2,3,4,5])"
   ]
  },
  {
   "cell_type": "code",
   "execution_count": 32,
   "metadata": {},
   "outputs": [
    {
     "name": "stdout",
     "output_type": "stream",
     "text": [
      "[2, 2, 2]\n",
      "1\n"
     ]
    },
    {
     "data": {
      "text/plain": [
       "[1, 2, 3]"
      ]
     },
     "execution_count": 32,
     "metadata": {},
     "output_type": "execute_result"
    }
   ],
   "source": [
    "solution([1,3,2,4,2])"
   ]
  },
  {
   "cell_type": "markdown",
   "metadata": {},
   "source": [
    "## 세번째 시도"
   ]
  },
  {
   "cell_type": "markdown",
   "metadata": {},
   "source": [
    "https://brownbears.tistory.com/118\n",
    "\n",
    "- range : 정수 집합을 순회(iterate)하는 루프를 실행할 때 유용\n",
    "\n",
    "- enumerate는 지연 제너레이터(lazy generator)로 이터레이터를 감쌈. 이터레이터를 순회하면서 이터레이터에서 각 아이템의 인덱스를 얻어오는 간결한 문법을 제공"
   ]
  },
  {
   "cell_type": "code",
   "execution_count": 11,
   "metadata": {},
   "outputs": [],
   "source": [
    "def solution(answers):\n",
    "    answer = []\n",
    "    person1 = [1, 2, 3, 4, 5]\n",
    "    person2 = [2, 1, 2, 3, 2, 4, 2, 5]\n",
    "    person3 = [3, 3, 1, 1, 2, 2, 4, 4, 5, 5]\n",
    "    cnt = [0, 0, 0]\n",
    "    for index, answer_num in enumerate(answers):\n",
    "        if answer_num == person1[index % 5]:\n",
    "            cnt[0] += 1\n",
    "        if answer_num == person2[index % 8]:\n",
    "            cnt[1] += 1\n",
    "        if answer_num == person3[index % 10]:\n",
    "            cnt[2] += 1\n",
    "    for idx, score in enumerate(cnt):\n",
    "        if score == max(cnt):\n",
    "            answer.append(idx + 1)\n",
    "    return answer"
   ]
  },
  {
   "cell_type": "code",
   "execution_count": 12,
   "metadata": {},
   "outputs": [
    {
     "data": {
      "text/plain": [
       "[1]"
      ]
     },
     "execution_count": 12,
     "metadata": {},
     "output_type": "execute_result"
    }
   ],
   "source": [
    "solution([1,2,3,4,5])"
   ]
  },
  {
   "cell_type": "code",
   "execution_count": 13,
   "metadata": {},
   "outputs": [
    {
     "data": {
      "text/plain": [
       "[1, 2, 3]"
      ]
     },
     "execution_count": 13,
     "metadata": {},
     "output_type": "execute_result"
    }
   ],
   "source": [
    "solution([1,3,2,4,2])"
   ]
  },
  {
   "cell_type": "code",
   "execution_count": null,
   "metadata": {},
   "outputs": [],
   "source": []
  }
 ],
 "metadata": {
  "kernelspec": {
   "display_name": "Python 3",
   "language": "python",
   "name": "python3"
  },
  "language_info": {
   "codemirror_mode": {
    "name": "ipython",
    "version": 3
   },
   "file_extension": ".py",
   "mimetype": "text/x-python",
   "name": "python",
   "nbconvert_exporter": "python",
   "pygments_lexer": "ipython3",
   "version": "3.8.5"
  }
 },
 "nbformat": 4,
 "nbformat_minor": 4
}
