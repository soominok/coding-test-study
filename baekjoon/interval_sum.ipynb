{
 "cells": [
  {
   "cell_type": "markdown",
   "metadata": {},
   "source": [
    "## 2042. 구간 합 구하기"
   ]
  },
  {
   "cell_type": "code",
   "execution_count": 4,
   "metadata": {},
   "outputs": [
    {
     "name": "stdout",
     "output_type": "stream",
     "text": [
      "5 2 2\n",
      "1\n",
      "2\n",
      "3\n",
      "4\n",
      "5\n",
      "1 3 6\n",
      "2 2 5\n",
      "17\n",
      "1 5 2\n",
      "2 3 5\n",
      "12\n"
     ]
    }
   ],
   "source": [
    "N, M, K = map(int, input().split())\n",
    "\n",
    "arr = []\n",
    "\n",
    "for _ in range(N):\n",
    "    arr.append(int(input()))\n",
    "    \n",
    "for _ in range(N+1, N+M+K+1):\n",
    "    count = 0\n",
    "    a, b, c = map(int, input().split())\n",
    "    if a == 1:\n",
    "        arr[b-1] = c\n",
    "    else: \n",
    "        count += sum(arr[b-1:c])\n",
    "        print(count)"
   ]
  },
  {
   "cell_type": "markdown",
   "metadata": {},
   "source": [
    "#### 세그먼트 트리 방법으로 풀기\n",
    "##### (참고) https://sungmin-joo.tistory.com/13\n",
    "##### (참고) https://hooongs.tistory.com/120"
   ]
  },
  {
   "cell_type": "code",
   "execution_count": 5,
   "metadata": {},
   "outputs": [
    {
     "ename": "ValueError",
     "evalue": "not enough values to unpack (expected 3, got 0)",
     "output_type": "error",
     "traceback": [
      "\u001b[1;31m---------------------------------------------------------------------------\u001b[0m",
      "\u001b[1;31mValueError\u001b[0m                                Traceback (most recent call last)",
      "\u001b[1;32m<ipython-input-5-295700aac987>\u001b[0m in \u001b[0;36m<module>\u001b[1;34m\u001b[0m\n\u001b[0;32m     25\u001b[0m         \u001b[0marr\u001b[0m\u001b[1;33m[\u001b[0m\u001b[0mi\u001b[0m\u001b[1;33m]\u001b[0m \u001b[1;33m=\u001b[0m \u001b[0marr\u001b[0m\u001b[1;33m[\u001b[0m\u001b[0mi\u001b[0m\u001b[1;33m*\u001b[0m\u001b[1;36m2\u001b[0m\u001b[1;33m]\u001b[0m \u001b[1;33m+\u001b[0m \u001b[0marr\u001b[0m\u001b[1;33m[\u001b[0m\u001b[0mi\u001b[0m\u001b[1;33m*\u001b[0m\u001b[1;36m2\u001b[0m \u001b[1;33m+\u001b[0m \u001b[1;36m1\u001b[0m\u001b[1;33m]\u001b[0m\u001b[1;33m\u001b[0m\u001b[1;33m\u001b[0m\u001b[0m\n\u001b[0;32m     26\u001b[0m \u001b[1;33m\u001b[0m\u001b[0m\n\u001b[1;32m---> 27\u001b[1;33m \u001b[0mN\u001b[0m\u001b[1;33m,\u001b[0m \u001b[0mM\u001b[0m\u001b[1;33m,\u001b[0m \u001b[0mK\u001b[0m \u001b[1;33m=\u001b[0m \u001b[0mmap\u001b[0m\u001b[1;33m(\u001b[0m\u001b[0mint\u001b[0m\u001b[1;33m,\u001b[0m\u001b[0minput\u001b[0m\u001b[1;33m(\u001b[0m\u001b[1;33m)\u001b[0m\u001b[1;33m.\u001b[0m\u001b[0msplit\u001b[0m\u001b[1;33m(\u001b[0m\u001b[1;33m)\u001b[0m\u001b[1;33m)\u001b[0m\u001b[1;33m\u001b[0m\u001b[1;33m\u001b[0m\u001b[0m\n\u001b[0m\u001b[0;32m     28\u001b[0m \u001b[1;33m\u001b[0m\u001b[0m\n\u001b[0;32m     29\u001b[0m \u001b[0msize\u001b[0m \u001b[1;33m=\u001b[0m  \u001b[1;36m2\u001b[0m\u001b[1;33m**\u001b[0m\u001b[0mceil\u001b[0m\u001b[1;33m(\u001b[0m\u001b[0mlog\u001b[0m\u001b[1;33m(\u001b[0m\u001b[0mN\u001b[0m\u001b[1;33m,\u001b[0m\u001b[1;36m2\u001b[0m\u001b[1;33m)\u001b[0m\u001b[1;33m)\u001b[0m\u001b[1;33m\u001b[0m\u001b[1;33m\u001b[0m\u001b[0m\n",
      "\u001b[1;31mValueError\u001b[0m: not enough values to unpack (expected 3, got 0)"
     ]
    }
   ],
   "source": [
    "import sys\n",
    "from math import ceil, log\n",
    "\n",
    "input = sys.stdin.readline\n",
    "global arr, size, size_max\n",
    "\n",
    "def sum(left, right, node_left, node_right, node_num):\n",
    "    if left > node_right or right < node_left: return 0\n",
    "    if left <= node_left and right >= node_right: return arr[node_num]\n",
    "\n",
    "    mid = (node_left + node_right)//2\n",
    "    return sum(left, right, node_left, mid, node_num*2) + sum(left, right, mid+1, node_right, node_num*2 + 1)\n",
    "\n",
    "def modify(i, val):\n",
    "    global arr\n",
    "    i += size - 1\n",
    "    arr[i] = val\n",
    "    while i > 1:\n",
    "        i //= 2\n",
    "        arr[i] = arr[i*2] + arr[i*2+1]\n",
    "\n",
    "def init():\n",
    "    global size, arr\n",
    "    for i in range(size - 1, 0, -1):\n",
    "        arr[i] = arr[i*2] + arr[i*2 + 1]\n",
    "\n",
    "N, M, K = map(int,input().split())\n",
    "\n",
    "size =  2**ceil(log(N,2))\n",
    "size_max = size * 2\n",
    "arr = [0]*(size_max)\n",
    "for i in range(N):\n",
    "    arr[size+i]=int(input())\n",
    "init()\n",
    "for _ in range(M + K):\n",
    "    flag, f, s = map(int,input().split())\n",
    "    if flag == 1:\n",
    "        modify(f,s)\n",
    "    else:\n",
    "        print(sum(f-1, s-1, 0, size - 1,1))"
   ]
  },
  {
   "cell_type": "code",
   "execution_count": null,
   "metadata": {},
   "outputs": [],
   "source": []
  }
 ],
 "metadata": {
  "kernelspec": {
   "display_name": "Python 3",
   "language": "python",
   "name": "python3"
  },
  "language_info": {
   "codemirror_mode": {
    "name": "ipython",
    "version": 3
   },
   "file_extension": ".py",
   "mimetype": "text/x-python",
   "name": "python",
   "nbconvert_exporter": "python",
   "pygments_lexer": "ipython3",
   "version": "3.8.5"
  }
 },
 "nbformat": 4,
 "nbformat_minor": 4
}
