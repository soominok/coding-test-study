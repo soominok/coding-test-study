{
 "cells": [
  {
   "cell_type": "markdown",
   "metadata": {},
   "source": [
    "## "
   ]
  },
  {
   "cell_type": "markdown",
   "metadata": {},
   "source": [
    "## 1806. 부분합"
   ]
  },
  {
   "cell_type": "code",
   "execution_count": 5,
   "metadata": {},
   "outputs": [
    {
     "name": "stdout",
     "output_type": "stream",
     "text": [
      "10 15\n",
      "5 1 3 5 10 7 4 9 2 8\n",
      "2\n"
     ]
    }
   ],
   "source": [
    "import sys\n",
    "\n",
    "N, S = map(int, input().split())\n",
    "data = list(map(int, input().split()))\n",
    "\n",
    "cur_sum = 0\n",
    "start, end = 0, 0\n",
    "min_length = sys.maxsize\n",
    "\n",
    "while True:\n",
    "    if cur_sum >= S:\n",
    "        min_length = min(min_length, end-start)\n",
    "        cur_sum -=data[start]\n",
    "        start += 1\n",
    "        \n",
    "    elif end == N:\n",
    "        break\n",
    "    else:\n",
    "        cur_sum += data[end]\n",
    "        end += 1\n",
    "\n",
    "if min_length == sys.maxsize:\n",
    "    print(0)\n",
    "else:\n",
    "    print(min_length)"
   ]
  },
  {
   "cell_type": "code",
   "execution_count": null,
   "metadata": {},
   "outputs": [],
   "source": []
  }
 ],
 "metadata": {
  "kernelspec": {
   "display_name": "Python 3",
   "language": "python",
   "name": "python3"
  },
  "language_info": {
   "codemirror_mode": {
    "name": "ipython",
    "version": 3
   },
   "file_extension": ".py",
   "mimetype": "text/x-python",
   "name": "python",
   "nbconvert_exporter": "python",
   "pygments_lexer": "ipython3",
   "version": "3.8.5"
  }
 },
 "nbformat": 4,
 "nbformat_minor": 4
}
