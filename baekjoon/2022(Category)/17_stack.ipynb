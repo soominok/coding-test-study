{
 "cells": [
  {
   "cell_type": "markdown",
   "metadata": {},
   "source": [
    "## 10828. 스택"
   ]
  },
  {
   "cell_type": "code",
   "execution_count": 6,
   "metadata": {},
   "outputs": [
    {
     "name": "stdout",
     "output_type": "stream",
     "text": [
      "7\n",
      "pop\n",
      "-1\n",
      "top\n",
      "-1\n",
      "push 123\n",
      "top\n",
      "123\n",
      "pop\n",
      "123\n",
      "top\n",
      "-1\n",
      "pop\n",
      "-1\n"
     ]
    }
   ],
   "source": [
    "import sys\n",
    "\n",
    "N = int(sys.stdin.readline())\n",
    "stack_list = []\n",
    "\n",
    "for _ in range(N):\n",
    "    a = sys.stdin.readline().split()\n",
    "    if a[0] == 'push':\n",
    "        stack_list.append(a[1])\n",
    "    elif a[0] == 'pop':\n",
    "        if len(stack_list) == 0:\n",
    "            print(-1)\n",
    "        else:\n",
    "            print(stack_list.pop())\n",
    "    elif a[0] == 'size':\n",
    "        print(len(stack_list))\n",
    "    elif a[0] == 'empty':\n",
    "        if len(stack_list) == 0:\n",
    "            print(1)\n",
    "        else:\n",
    "            print(0)\n",
    "    elif a[0] == 'top':\n",
    "        if len(stack_list) == 0:\n",
    "            print(-1)\n",
    "        else:\n",
    "            print(stack_list[-1])"
   ]
  },
  {
   "cell_type": "markdown",
   "metadata": {},
   "source": [
    "## 10773. 제로"
   ]
  },
  {
   "cell_type": "code",
   "execution_count": 20,
   "metadata": {},
   "outputs": [
    {
     "name": "stdout",
     "output_type": "stream",
     "text": [
      "4\n",
      "3\n",
      "0\n",
      "4\n",
      "0\n",
      "0\n"
     ]
    }
   ],
   "source": [
    "K = int(input())\n",
    "result = []\n",
    "\n",
    "for i in range(K):\n",
    "    data = int(input())\n",
    "    if data == 0:\n",
    "        result.pop()\n",
    "    else:\n",
    "        result.append(data)\n",
    "print(sum(result))"
   ]
  }
 ],
 "metadata": {
  "kernelspec": {
   "display_name": "Python 3",
   "language": "python",
   "name": "python3"
  },
  "language_info": {
   "codemirror_mode": {
    "name": "ipython",
    "version": 3
   },
   "file_extension": ".py",
   "mimetype": "text/x-python",
   "name": "python",
   "nbconvert_exporter": "python",
   "pygments_lexer": "ipython3",
   "version": "3.8.3"
  }
 },
 "nbformat": 4,
 "nbformat_minor": 4
}
