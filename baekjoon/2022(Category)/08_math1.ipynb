{
 "cells": [
  {
   "cell_type": "markdown",
   "metadata": {},
   "source": [
    "## 1712. 손익분기점"
   ]
  },
  {
   "cell_type": "code",
   "execution_count": 6,
   "metadata": {},
   "outputs": [
    {
     "name": "stdout",
     "output_type": "stream",
     "text": [
      "1000 70 170\n",
      "11\n"
     ]
    }
   ],
   "source": [
    "A, B, C = map(int, input().split())\n",
    "\n",
    "if C <= B:\n",
    "    print(\"-1\")\n",
    "else:\n",
    "    count = A // (C-B) + 1\n",
    "    print(count)"
   ]
  },
  {
   "cell_type": "code",
   "execution_count": 4,
   "metadata": {},
   "outputs": [
    {
     "name": "stdout",
     "output_type": "stream",
     "text": [
      "1000 70 170\n",
      "11\n"
     ]
    }
   ],
   "source": [
    "A, B, C = map(int, input().split())\n",
    "\n",
    "count = 0\n",
    "\n",
    "cost = A + (B * count)\n",
    "product = C * count\n",
    "if C <= B :\n",
    "    count = -1\n",
    "else:\n",
    "    count = A//(C-B) + 1\n",
    "            \n",
    "print(count)"
   ]
  },
  {
   "cell_type": "code",
   "execution_count": 5,
   "metadata": {},
   "outputs": [
    {
     "name": "stdout",
     "output_type": "stream",
     "text": [
      "3.3333333333333335\n",
      "3\n"
     ]
    }
   ],
   "source": [
    "print(10/3)\n",
    "print(10//3)"
   ]
  },
  {
   "cell_type": "code",
   "execution_count": null,
   "metadata": {},
   "outputs": [],
   "source": []
  }
 ],
 "metadata": {
  "kernelspec": {
   "display_name": "Python 3",
   "language": "python",
   "name": "python3"
  }
 },
 "nbformat": 4,
 "nbformat_minor": 4
}
