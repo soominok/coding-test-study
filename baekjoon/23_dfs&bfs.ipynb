{
 "cells": [
  {
   "cell_type": "markdown",
   "metadata": {},
   "source": [
    "## 1260. DFS와 BFS"
   ]
  },
  {
   "cell_type": "code",
   "execution_count": 15,
   "metadata": {},
   "outputs": [
    {
     "name": "stdout",
     "output_type": "stream",
     "text": [
      "4 5 1\n",
      "1 2\n",
      "1 3\n",
      "1 4\n",
      "2 4\n",
      "3 4\n",
      "1 2 4 3 \n",
      "1 2 3 4 "
     ]
    }
   ],
   "source": [
    "def dfs(v):\n",
    "    visited[v] = 1 \n",
    "    print(v, end = ' ')\n",
    "    for i in range(1, N+1):\n",
    "        if visited[i] == 0 and matrix[v][i] == 1:\n",
    "            dfs(i)\n",
    "\n",
    "def bfs(v):\n",
    "    queue = [v]\n",
    "    visited[v] = 0\n",
    "    while queue:\n",
    "        v = queue.pop(0)\n",
    "        print(v, end = ' ')\n",
    "        for i in range(1, N+1):\n",
    "            if visited[i] == 1 and matrix[v][i] == 1:\n",
    "                queue.append(i)\n",
    "                visited[i] = 0\n",
    "    \n",
    "N, M, V = map(int, input().split())\n",
    "matrix = [[0] * (N+1) for i in range(N+1)]\n",
    "\n",
    "for i in range(M):\n",
    "    a,b = map(int, input().split())\n",
    "    matrix[a][b] = matrix[b][a] = 1\n",
    "\n",
    "visited = [0] * (N+1)\n",
    "\n",
    "            \n",
    "dfs(V)\n",
    "print()\n",
    "bfs(V)"
   ]
  },
  {
   "cell_type": "code",
   "execution_count": null,
   "metadata": {},
   "outputs": [],
   "source": [
    "N, M, B = map(int, input().split())\n",
    "matrix = [[0] * (N+1) for i in range(N+1)]\n",
    "\n",
    "for i in ragnge(N):\n",
    "    a,b = map(int, input().split())\n",
    "    matrix[a][b] = matrix[b][a] = 1\n",
    "    visited = [False] * (N + 1)\n",
    "        "
   ]
  },
  {
   "cell_type": "markdown",
   "metadata": {},
   "source": [
    "## 2606. 바이러스"
   ]
  },
  {
   "cell_type": "code",
   "execution_count": 8,
   "metadata": {},
   "outputs": [
    {
     "name": "stdout",
     "output_type": "stream",
     "text": [
      "7\n",
      "6\n",
      "1 2\n",
      "2 3\n",
      "1 5\n",
      "5 2\n",
      "5 6\n",
      "4 7\n",
      "4\n"
     ]
    }
   ],
   "source": [
    "N = int(input())\n",
    "M = int(input())\n",
    "graph = [[0] * (N+1) for _ in range(N+1)]\n",
    "result = []\n",
    "\n",
    "for i in range(M):\n",
    "    a, b = map(int, input().split())\n",
    "    graph[a][b] = graph[b][a] = 1\n",
    "\n",
    "\n",
    "def dfs(v):\n",
    "    result.append(v)\n",
    "    for i in range(1, N+1):\n",
    "        if (i not in result) and (graph[v][i] == 1):\n",
    "            dfs(i)\n",
    "    return (len(result) - 1)\n",
    "            \n",
    "print(dfs(1))"
   ]
  },
  {
   "cell_type": "code",
   "execution_count": 3,
   "metadata": {},
   "outputs": [
    {
     "name": "stdout",
     "output_type": "stream",
     "text": [
      "7\n",
      "6\n",
      "1 2\n",
      "2 3\n",
      "1 5\n",
      "5 2\n",
      "5 6\n",
      "4 7\n",
      "0\n"
     ]
    }
   ],
   "source": [
    "N = int(input())\n",
    "M = int(input())\n",
    "graph = [[0] * (N+1) for _  in range(N+1)]\n",
    "result = []\n",
    "\n",
    "for i in range(M):\n",
    "    a, b = map(int, input().split())\n",
    "    graph[a][b] = graph[b][a] = 1\n",
    "    \n",
    "def bfs(v):\n",
    "    queue = [v]\n",
    "    visited = []\n",
    "    result.append(v)\n",
    "    while queue:\n",
    "        temp = queue.pop(0)\n",
    "        visited.append(temp)\n",
    "        for i in range(len(graph)):\n",
    "            if (i not in result) and (i not in visited) and (graph[temp][i] == 1):\n",
    "                queue.append(i)\n",
    "\n",
    "    return (len(queue))\n",
    "                \n",
    "print(bfs(1))"
   ]
  },
  {
   "cell_type": "code",
   "execution_count": null,
   "metadata": {},
   "outputs": [],
   "source": []
  },
  {
   "cell_type": "markdown",
   "metadata": {},
   "source": [
    "## 1012. 유기농 배추"
   ]
  },
  {
   "cell_type": "code",
   "execution_count": null,
   "metadata": {},
   "outputs": [],
   "source": [
    "T = int(input())\n",
    "\n",
    "def dfs(x, y):\n",
    "    if x < -1 or x > M or y < -1 or y > N\n",
    "\n",
    "for _ in range(T):\n",
    "    M, N, K = int(input().split())\n",
    "    graph = [[0] * (K+1) for _ in range(K+1)]\n",
    "    count = 0\n",
    "    for _ in range(K):\n",
    "        X, Y = map(int, input().split())\n",
    "        graph[X][Y] = graph[Y][X] = 1\n",
    "    for i in range(X):\n",
    "        for j in range(Y):\n",
    "            if graph[i][j] == True:\n",
    "                count += 1\n",
    "\n",
    "                "
   ]
  }
 ],
 "metadata": {
  "kernelspec": {
   "display_name": "Python 3",
   "language": "python",
   "name": "python3"
  },
  "language_info": {
   "codemirror_mode": {
    "name": "ipython",
    "version": 3
   },
   "file_extension": ".py",
   "mimetype": "text/x-python",
   "name": "python",
   "nbconvert_exporter": "python",
   "pygments_lexer": "ipython3",
   "version": "3.8.3"
  }
 },
 "nbformat": 4,
 "nbformat_minor": 4
}
