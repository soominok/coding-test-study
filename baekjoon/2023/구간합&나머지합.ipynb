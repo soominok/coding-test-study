{
 "cells": [
  {
   "cell_type": "markdown",
   "id": "e7084817",
   "metadata": {},
   "source": [
    "# 11659번. 구간 합 구하기 4\n",
    "- 수 N개가 주어졌을 때, i번째 수부터 j번째 수까지 합을 구하는 프로그램을 작성하시오."
   ]
  },
  {
   "cell_type": "code",
   "execution_count": 4,
   "id": "13e82ff7",
   "metadata": {},
   "outputs": [
    {
     "name": "stdout",
     "output_type": "stream",
     "text": [
      "5 3\n",
      "5 4 3 2 1\n",
      "1 3\n",
      "12\n",
      "2 4\n",
      "9\n",
      "5 5 \n",
      "1\n"
     ]
    }
   ],
   "source": [
    "N, M = map(int, input().split())\n",
    "A = list(map(int, input().split()))\n",
    "\n",
    "for i in range(M):\n",
    "    r1, r2 = list(map(int, input().split()))\n",
    "    print(sum(A[r1 - 1: r2]))"
   ]
  },
  {
   "cell_type": "code",
   "execution_count": null,
   "id": "f449818c",
   "metadata": {},
   "outputs": [],
   "source": [
    "# 방법1 - 구간 합 방법\n",
    "\n",
    "# import sys\n",
    "\n",
    "# input = sys.stdin.readline\n",
    "\n",
    "N, M = map(int, input().split())\n",
    "A = list(map(int, input().split()))\n",
    "\n",
    "s = [0]\n",
    "idx = 0\n",
    "\n",
    "\n",
    "for i in A:\n",
    "    idx += i\n",
    "    s.append(idx)\n",
    "\n",
    "\n",
    "for i in range(M):\n",
    "    r1, r2 = list(map(int, input().split()))\n",
    "    print( s[r2] - s[r1-1])"
   ]
  },
  {
   "cell_type": "code",
   "execution_count": null,
   "id": "f82f454f",
   "metadata": {},
   "outputs": [
    {
     "name": "stdout",
     "output_type": "stream",
     "text": [
      "5 3\n",
      "5 4 3 2 1\n",
      "[0, 0, 0, 0, 0, 0]\n",
      "[0, 5, 9, 12, 14, 15]\n",
      "1 3\n",
      "12\n",
      "2 4\n",
      "9\n"
     ]
    }
   ],
   "source": [
    "# 방법2 - DP 방식?\n",
    "\n",
    "# import sys\n",
    "\n",
    "# input = sys.stdin.readline\n",
    "\n",
    "N, M = map(int, input().split())\n",
    "A = list(map(int, input().split()))\n",
    "\n",
    "dp = [0] * (N + 1)\n",
    "\n",
    "\n",
    "for _ in range(N):\n",
    "    dp[_ + 1] = dp[_] + A[_]\n",
    "\n",
    "\n",
    "for i in range(M):\n",
    "    r1, r2 = list(map(int, input().split()))\n",
    "    print(dp[r2] - dp[r1-1])\n",
    "# for i in range(M):\n",
    "#     R = list(map(int, input().split()))\n",
    "#     print(sum(A[R[0] - 1: R[1]]))"
   ]
  },
  {
   "cell_type": "markdown",
   "id": "468beca3",
   "metadata": {},
   "source": [
    "# 2042번. 구간 합 구하기\n",
    "- https://www.acmicpc.net/problem/2042\n",
    "- 어떤 N개의 수가 주어져 있다. 그런데 중간에 수의 변경이 빈번히 일어나고 그 중간에 어떤 부분의 합을 구하려 한다. 만약에 1,2,3,4,5 라는 수가 있고, 3번째 수를 6으로 바꾸고 2번째부터 5번째까지 합을 구하라고 한다면 17을 출력하면 되는 것이다. 그리고 그 상태에서 다섯 번째 수를 2로 바꾸고 3번째부터 5번째까지 합을 구하라고 한다면 12가 될 것이다."
   ]
  },
  {
   "cell_type": "code",
   "execution_count": 13,
   "id": "a318c4b7",
   "metadata": {},
   "outputs": [
    {
     "name": "stdout",
     "output_type": "stream",
     "text": [
      "5 2 2 \n",
      "1\n",
      "2\n",
      "3\n",
      "4\n",
      "5\n",
      "1 3 6\n",
      "2 2 5\n",
      "17\n",
      "1 5 2\n",
      "2 3 5\n",
      "12\n"
     ]
    }
   ],
   "source": [
    "# import sys\n",
    "# input = sys.stdin.readline\n",
    "\n",
    "def init(node, start, end):\n",
    "    if start == end:\n",
    "        tree[node] = A[start]\n",
    "        return tree[node]\n",
    "    \n",
    "    else:\n",
    "        tree[node] = init(node*2, start, (start+end) // 2) + init(node*2+1, (start+end)//2+1, end)\n",
    "        return tree[node]\n",
    "    \n",
    "    \n",
    "def subsum(node, start, end, left, right):\n",
    "    if left > end or right < start:\n",
    "        return 0\n",
    "    \n",
    "    if left <= start and end <= right:\n",
    "        return tree[node]\n",
    "    \n",
    "    return subsum(node*2, start, (start+end)//2, left, right) + subsum(node*2 + 1, (start+end)//2 + 1, end, left, right)\n",
    "\n",
    "def update(node, start, end, index, diff):\n",
    "    if index < start or index > end:\n",
    "        return\n",
    "    \n",
    "    tree[node] += diff\n",
    "    \n",
    "    if start != end:\n",
    "        update(node*2, start, (start+end) // 2, index, diff)\n",
    "        update(node*2+1, (start+end) // 2 + 1, end, index, diff)\n",
    "        \n",
    "        \n",
    "N, M, K = map(int, input().split())\n",
    "A = []\n",
    "tree = [0] * 3000000\n",
    "\n",
    "for _ in range(N):\n",
    "    A.append(int(input()))\n",
    "    \n",
    "init(1, 0, N-1)\n",
    "\n",
    "for _ in range(M+K):\n",
    "    a, b, c = map(int, input().split())\n",
    "    if a == 1:\n",
    "        b = b-1\n",
    "        diff = c - A[b]\n",
    "        A[b] = c\n",
    "        update(1, 0, N-1, b, diff)\n",
    "        \n",
    "    elif a == 2:\n",
    "        print(subsum(1, 0, N-1, b-1, c-1))"
   ]
  },
  {
   "cell_type": "code",
   "execution_count": 1,
   "id": "8028894d",
   "metadata": {},
   "outputs": [
    {
     "name": "stdout",
     "output_type": "stream",
     "text": [
      "5 2 2\n",
      "1\n",
      "2\n",
      "3\n",
      "4\n",
      "5\n",
      "[0, 1, 3, 6, 10, 15]\n",
      "1 3 6\n",
      "2 2 5\n",
      "17\n",
      "1 5 2\n",
      "2 3 5\n",
      "12\n"
     ]
    }
   ],
   "source": [
    "# # import sys\n",
    "\n",
    "# # input = sys.stdin.readline\n",
    "\n",
    "# N, M, K = map(int, input().split())\n",
    "# A = [int(input()) for _ in range(N)]\n",
    "\n",
    "# s = [0]\n",
    "# idx = 0\n",
    "\n",
    "# for i in A:\n",
    "#     idx += i\n",
    "#     s.append(idx)\n",
    "\n",
    "# for _ in range((N+M+K+1) - (N+1)):    \n",
    "#     a, b, c = map(int, input().split())\n",
    "#     if a == 1:\n",
    "#         for j in range(b, len(s)):\n",
    "#             s[j] = s[j] + (c - A[b-1])\n",
    "    \n",
    "#     elif a == 2:\n",
    "#         print(s[c] - s[b-1])"
   ]
  },
  {
   "cell_type": "code",
   "execution_count": null,
   "id": "efdfe0da",
   "metadata": {},
   "outputs": [],
   "source": [
    "def init(start, end, idx):\n",
    "    if start == end:\n",
    "        s[idx] = "
   ]
  },
  {
   "cell_type": "markdown",
   "id": "334505f8",
   "metadata": {},
   "source": [
    "# 11660번. 구간 합 구하기5\n",
    "- https://www.acmicpc.net/problem/11660\n",
    "- N×N개의 수가 N×N 크기의 표에 채워져 있다. (x1, y1)부터 (x2, y2)까지 합을 구하는 프로그램을 작성하시오. (x, y)는 x행 y열을 의미한다.예를 들어, N = 4이고, 표가 아래와 같이 채워져 있는 경우를 살펴보자."
   ]
  },
  {
   "cell_type": "code",
   "execution_count": 6,
   "id": "47c21727",
   "metadata": {},
   "outputs": [
    {
     "name": "stdout",
     "output_type": "stream",
     "text": [
      "4 3 \n",
      "1 2 3 4\n",
      "2 3 4 5\n",
      "3 4 5 6\n",
      "4 5 6 7\n",
      "2 2 3 4\n",
      "27\n",
      "3 4 3 4\n",
      "6\n",
      "1 1 4 4\n",
      "64\n"
     ]
    }
   ],
   "source": [
    "# import sys\n",
    "\n",
    "# input = sys.stdin.readline\n",
    "\n",
    "\n",
    "N, M = map(int, input().split())\n",
    "\n",
    "B = []\n",
    "\n",
    "for _ in range(N):\n",
    "    B.append(list(map(int, input().split())))\n",
    "\n",
    "dp = [[0]*(N+1) for i in range(N+1)]\n",
    "    \n",
    "for i in range(1, N+1):\n",
    "    for j in range(1, N+1):\n",
    "        dp[i][j] = dp[i][j-1] + dp[i-1][j] - dp[i-1][j-1] + B[i-1][j-1]\n",
    "    \n",
    "for k in range(M):\n",
    "    x1, y1, x2, y2 = map(int, input().split())\n",
    "    \n",
    "    r = dp[x2][y2] - dp[x2][y1-1] - dp[x1-1][y2] + dp[x1-1][y1-1]\n",
    "    print(r)\n"
   ]
  },
  {
   "cell_type": "markdown",
   "id": "7777eb72",
   "metadata": {},
   "source": [
    "# 15560번. 구간 합 최대? 1\n",
    "- https://www.acmicpc.net/problem/15560\n",
    "- 길이 N의 수열 K1, K2, ..., KN과 상수 U, V가 주어진다. Q개의 쿼리가 주어지며, 그 종류는 두 가지가 있다.\n",
    "\n",
    "    1) A, B가 주어지면, max(U × (Ki + Ki + 1 + ... + Kj) + V × (j - i)) (A ≤ i ≤ j ≤ B) 의 값을 구한다.\n",
    "    \n",
    "    2) A, B가 주어지면, KA의 값을 B으로 바꾼다.\n",
    "    \n",
    "[참고 사이트]\n",
    "- https://seungwuk98.tistory.com/39\n",
    "- https://moonrabbit2.tistory.com/4\n",
    "- https://yiyj1030.tistory.com/491 : 세그먼트 트리 방법"
   ]
  },
  {
   "cell_type": "code",
   "execution_count": 4,
   "id": "ba617625",
   "metadata": {},
   "outputs": [
    {
     "name": "stdout",
     "output_type": "stream",
     "text": [
      "5 3 2 4\n",
      "1 1 1 1 1\n",
      "0 1 5\n"
     ]
    },
    {
     "ename": "NameError",
     "evalue": "name 'j' is not defined",
     "output_type": "error",
     "traceback": [
      "\u001b[1;31m---------------------------------------------------------------------------\u001b[0m",
      "\u001b[1;31mNameError\u001b[0m                                 Traceback (most recent call last)",
      "\u001b[1;32mC:\\Users\\Public\\Documents\\ESTsoft\\CreatorTemp\\ipykernel_16164\\2872392563.py\u001b[0m in \u001b[0;36m<module>\u001b[1;34m\u001b[0m\n\u001b[0;32m     47\u001b[0m         \u001b[0mupdate\u001b[0m\u001b[1;33m(\u001b[0m\u001b[1;36m1\u001b[0m\u001b[1;33m,\u001b[0m \u001b[1;36m0\u001b[0m\u001b[1;33m,\u001b[0m \u001b[0mN\u001b[0m\u001b[1;33m-\u001b[0m\u001b[1;36m1\u001b[0m\u001b[1;33m,\u001b[0m \u001b[0mB\u001b[0m\u001b[1;33m,\u001b[0m \u001b[0mdiff\u001b[0m\u001b[1;33m)\u001b[0m\u001b[1;33m\u001b[0m\u001b[1;33m\u001b[0m\u001b[0m\n\u001b[0;32m     48\u001b[0m     \u001b[1;32melif\u001b[0m \u001b[0mC\u001b[0m \u001b[1;33m==\u001b[0m \u001b[1;36m0\u001b[0m\u001b[1;33m:\u001b[0m\u001b[1;33m\u001b[0m\u001b[1;33m\u001b[0m\u001b[0m\n\u001b[1;32m---> 49\u001b[1;33m         \u001b[0mprint\u001b[0m\u001b[1;33m(\u001b[0m\u001b[0mmaxsum\u001b[0m\u001b[1;33m(\u001b[0m\u001b[1;36m1\u001b[0m\u001b[1;33m,\u001b[0m \u001b[1;36m0\u001b[0m\u001b[1;33m,\u001b[0m \u001b[0mN\u001b[0m\u001b[1;33m-\u001b[0m\u001b[1;36m1\u001b[0m\u001b[1;33m,\u001b[0m \u001b[0mA\u001b[0m\u001b[1;33m-\u001b[0m\u001b[1;36m1\u001b[0m\u001b[1;33m,\u001b[0m \u001b[0mB\u001b[0m\u001b[1;33m-\u001b[0m\u001b[1;36m1\u001b[0m\u001b[1;33m)\u001b[0m\u001b[1;33m)\u001b[0m\u001b[1;33m\u001b[0m\u001b[1;33m\u001b[0m\u001b[0m\n\u001b[0m",
      "\u001b[1;32mC:\\Users\\Public\\Documents\\ESTsoft\\CreatorTemp\\ipykernel_16164\\2872392563.py\u001b[0m in \u001b[0;36mmaxsum\u001b[1;34m(node, start, end, left, right)\u001b[0m\n\u001b[0;32m     16\u001b[0m \u001b[1;33m\u001b[0m\u001b[0m\n\u001b[0;32m     17\u001b[0m     \u001b[1;32mif\u001b[0m \u001b[0mleft\u001b[0m \u001b[1;33m<=\u001b[0m \u001b[0mstart\u001b[0m \u001b[1;32mand\u001b[0m \u001b[0mend\u001b[0m \u001b[1;33m<=\u001b[0m \u001b[0mright\u001b[0m\u001b[1;33m:\u001b[0m\u001b[1;33m\u001b[0m\u001b[1;33m\u001b[0m\u001b[0m\n\u001b[1;32m---> 18\u001b[1;33m         \u001b[0mtree\u001b[0m\u001b[1;33m[\u001b[0m\u001b[0mnode\u001b[0m\u001b[1;33m]\u001b[0m \u001b[1;33m=\u001b[0m \u001b[1;33m(\u001b[0m\u001b[0mU\u001b[0m\u001b[1;33m*\u001b[0m\u001b[1;33m(\u001b[0m\u001b[0mK\u001b[0m\u001b[1;33m[\u001b[0m\u001b[0mj\u001b[0m\u001b[1;33m]\u001b[0m \u001b[1;33m-\u001b[0m \u001b[0mK\u001b[0m\u001b[1;33m[\u001b[0m\u001b[0mi\u001b[0m\u001b[1;33m-\u001b[0m\u001b[1;36m1\u001b[0m\u001b[1;33m]\u001b[0m\u001b[1;33m)\u001b[0m \u001b[1;33m+\u001b[0m \u001b[1;33m(\u001b[0m\u001b[0mV\u001b[0m \u001b[1;33m*\u001b[0m \u001b[1;33m(\u001b[0m\u001b[0mj\u001b[0m\u001b[1;33m-\u001b[0m\u001b[0mi\u001b[0m\u001b[1;33m)\u001b[0m\u001b[1;33m)\u001b[0m\u001b[1;33m)\u001b[0m\u001b[1;33m\u001b[0m\u001b[1;33m\u001b[0m\u001b[0m\n\u001b[0m\u001b[0;32m     19\u001b[0m         \u001b[1;32mreturn\u001b[0m \u001b[0mtree\u001b[0m\u001b[1;33m[\u001b[0m\u001b[0mnode\u001b[0m\u001b[1;33m]\u001b[0m\u001b[1;33m\u001b[0m\u001b[1;33m\u001b[0m\u001b[0m\n\u001b[0;32m     20\u001b[0m \u001b[1;33m\u001b[0m\u001b[0m\n",
      "\u001b[1;31mNameError\u001b[0m: name 'j' is not defined"
     ]
    }
   ],
   "source": [
    "# import sys\n",
    "# input = sys.stdin.readline\n",
    "\n",
    "def init(node, start, end):\n",
    "    if start == end:\n",
    "        tree[node] = K[start]\n",
    "        return tree[node]\n",
    "    else:\n",
    "        tree[node] = init(node*2, start, (start+end)//2) + init(node*2+1, (start+end)//2+1, end)\n",
    "        return tree[node]\n",
    "    \n",
    "    \n",
    "def maxsum(node, start, end, left, right):\n",
    "    if left > end or right < start:\n",
    "        return 0\n",
    "    \n",
    "    if left <= start and end <= right:\n",
    "        tree[node] = (U*(K[j] - K[i-1]) + (V * (j-i)))\n",
    "        return tree[node]\n",
    "    \n",
    "    return max(maxsum(node*2, start, (start+end)//2, left, right) +  maxsum(node*2+1, (start+end)//2+1, end, left, right))\n",
    "\n",
    "def update(node, start, end, index, diff):\n",
    "    if index < start or index > end:\n",
    "        return\n",
    "    \n",
    "    tree[node] += diff\n",
    "    \n",
    "    if start != end:\n",
    "        update(node*2, start, (start+end)//2, index, diff)\n",
    "        update(node*2+1, (start+end)//2+1, end, index, diff)\n",
    "        \n",
    "        \n",
    "\n",
    "N, Q, U, V = map(int, input().split())\n",
    "K = list(map(int, input().split()))\n",
    "tree = [0] * 3000000\n",
    "\n",
    "init(1, 0, N-1)\n",
    "\n",
    "for _ in range(Q):\n",
    "    C, A, B = map(int, input().split())\n",
    "    if C == 1:\n",
    "        A = A-1\n",
    "        diff = B - K[B]\n",
    "        K[B] = C\n",
    "        update(1, 0, N-1, B, diff)\n",
    "    elif C == 0:\n",
    "        print(maxsum(1, 0, N-1, A-1, B-1))"
   ]
  },
  {
   "cell_type": "markdown",
   "id": "389a23b2",
   "metadata": {},
   "source": [
    "# "
   ]
  },
  {
   "cell_type": "markdown",
   "id": "d22cffbb",
   "metadata": {},
   "source": [
    "##### "
   ]
  },
  {
   "cell_type": "code",
   "execution_count": 23,
   "id": "8982da10",
   "metadata": {},
   "outputs": [
    {
     "name": "stdout",
     "output_type": "stream",
     "text": [
      "5 3 2 4\n",
      "1 1 1 1 1\n",
      "0 1 5\n",
      "6\n"
     ]
    },
    {
     "ename": "KeyboardInterrupt",
     "evalue": "Interrupted by user",
     "output_type": "error",
     "traceback": [
      "\u001b[1;31m---------------------------------------------------------------------------\u001b[0m",
      "\u001b[1;31mKeyboardInterrupt\u001b[0m                         Traceback (most recent call last)",
      "\u001b[1;32mC:\\Users\\Public\\Documents\\ESTsoft\\CreatorTemp\\ipykernel_1108\\2577354537.py\u001b[0m in \u001b[0;36m<module>\u001b[1;34m\u001b[0m\n\u001b[0;32m     29\u001b[0m \u001b[1;33m\u001b[0m\u001b[0m\n\u001b[0;32m     30\u001b[0m \u001b[1;32mfor\u001b[0m \u001b[0m_\u001b[0m \u001b[1;32min\u001b[0m \u001b[0mrange\u001b[0m\u001b[1;33m(\u001b[0m\u001b[0mQ\u001b[0m\u001b[1;33m)\u001b[0m\u001b[1;33m:\u001b[0m\u001b[1;33m\u001b[0m\u001b[1;33m\u001b[0m\u001b[0m\n\u001b[1;32m---> 31\u001b[1;33m     \u001b[0mC\u001b[0m\u001b[1;33m,\u001b[0m \u001b[0mA\u001b[0m\u001b[1;33m,\u001b[0m \u001b[0mB\u001b[0m \u001b[1;33m=\u001b[0m \u001b[0mmap\u001b[0m\u001b[1;33m(\u001b[0m\u001b[0mint\u001b[0m\u001b[1;33m,\u001b[0m \u001b[0minput\u001b[0m\u001b[1;33m(\u001b[0m\u001b[1;33m)\u001b[0m\u001b[1;33m.\u001b[0m\u001b[0msplit\u001b[0m\u001b[1;33m(\u001b[0m\u001b[1;33m)\u001b[0m\u001b[1;33m)\u001b[0m\u001b[1;33m\u001b[0m\u001b[1;33m\u001b[0m\u001b[0m\n\u001b[0m\u001b[0;32m     32\u001b[0m     \u001b[0mprint\u001b[0m\u001b[1;33m(\u001b[0m\u001b[0mquery\u001b[0m\u001b[1;33m(\u001b[0m\u001b[0mC\u001b[0m\u001b[1;33m,\u001b[0m \u001b[0mA\u001b[0m\u001b[1;33m,\u001b[0m \u001b[0mB\u001b[0m\u001b[1;33m)\u001b[0m\u001b[1;33m)\u001b[0m\u001b[1;33m\u001b[0m\u001b[1;33m\u001b[0m\u001b[0m\n",
      "\u001b[1;32m~\\anaconda3\\lib\\site-packages\\ipykernel\\kernelbase.py\u001b[0m in \u001b[0;36mraw_input\u001b[1;34m(self, prompt)\u001b[0m\n\u001b[0;32m   1175\u001b[0m                 \u001b[1;34m\"raw_input was called, but this frontend does not support input requests.\"\u001b[0m\u001b[1;33m\u001b[0m\u001b[1;33m\u001b[0m\u001b[0m\n\u001b[0;32m   1176\u001b[0m             )\n\u001b[1;32m-> 1177\u001b[1;33m         return self._input_request(\n\u001b[0m\u001b[0;32m   1178\u001b[0m             \u001b[0mstr\u001b[0m\u001b[1;33m(\u001b[0m\u001b[0mprompt\u001b[0m\u001b[1;33m)\u001b[0m\u001b[1;33m,\u001b[0m\u001b[1;33m\u001b[0m\u001b[1;33m\u001b[0m\u001b[0m\n\u001b[0;32m   1179\u001b[0m             \u001b[0mself\u001b[0m\u001b[1;33m.\u001b[0m\u001b[0m_parent_ident\u001b[0m\u001b[1;33m[\u001b[0m\u001b[1;34m\"shell\"\u001b[0m\u001b[1;33m]\u001b[0m\u001b[1;33m,\u001b[0m\u001b[1;33m\u001b[0m\u001b[1;33m\u001b[0m\u001b[0m\n",
      "\u001b[1;32m~\\anaconda3\\lib\\site-packages\\ipykernel\\kernelbase.py\u001b[0m in \u001b[0;36m_input_request\u001b[1;34m(self, prompt, ident, parent, password)\u001b[0m\n\u001b[0;32m   1217\u001b[0m             \u001b[1;32mexcept\u001b[0m \u001b[0mKeyboardInterrupt\u001b[0m\u001b[1;33m:\u001b[0m\u001b[1;33m\u001b[0m\u001b[1;33m\u001b[0m\u001b[0m\n\u001b[0;32m   1218\u001b[0m                 \u001b[1;31m# re-raise KeyboardInterrupt, to truncate traceback\u001b[0m\u001b[1;33m\u001b[0m\u001b[1;33m\u001b[0m\u001b[0m\n\u001b[1;32m-> 1219\u001b[1;33m                 \u001b[1;32mraise\u001b[0m \u001b[0mKeyboardInterrupt\u001b[0m\u001b[1;33m(\u001b[0m\u001b[1;34m\"Interrupted by user\"\u001b[0m\u001b[1;33m)\u001b[0m \u001b[1;32mfrom\u001b[0m \u001b[1;32mNone\u001b[0m\u001b[1;33m\u001b[0m\u001b[1;33m\u001b[0m\u001b[0m\n\u001b[0m\u001b[0;32m   1220\u001b[0m             \u001b[1;32mexcept\u001b[0m \u001b[0mException\u001b[0m\u001b[1;33m:\u001b[0m\u001b[1;33m\u001b[0m\u001b[1;33m\u001b[0m\u001b[0m\n\u001b[0;32m   1221\u001b[0m                 \u001b[0mself\u001b[0m\u001b[1;33m.\u001b[0m\u001b[0mlog\u001b[0m\u001b[1;33m.\u001b[0m\u001b[0mwarning\u001b[0m\u001b[1;33m(\u001b[0m\u001b[1;34m\"Invalid Message:\"\u001b[0m\u001b[1;33m,\u001b[0m \u001b[0mexc_info\u001b[0m\u001b[1;33m=\u001b[0m\u001b[1;32mTrue\u001b[0m\u001b[1;33m)\u001b[0m\u001b[1;33m\u001b[0m\u001b[1;33m\u001b[0m\u001b[0m\n",
      "\u001b[1;31mKeyboardInterrupt\u001b[0m: Interrupted by user"
     ]
    }
   ],
   "source": [
    "# import sys\n",
    "\n",
    "# input = sys.stdin.readline\n",
    "\n",
    "N, Q, U, V = map(int, input().split())\n",
    "K = list(map(int, input().split()))\n",
    "\n",
    "def query(C, A, B):\n",
    "    if C == 0:\n",
    "        min_r = 0\n",
    "        max_r = 0\n",
    "        for i in range(A, B+1):\n",
    "            min_r = min(min_r, s[i-1])\n",
    "            max_r = max(max_r, (U*(s[i]) + (V * i)))\n",
    "            \n",
    "            return max_r\n",
    "    else:\n",
    "        for z in range(A, len(s)):\n",
    "            s[z] = s[z] + (B - K[A+1])\n",
    "\n",
    "            \n",
    "            \n",
    "idx = 0\n",
    "s = [0]\n",
    "\n",
    "for i in K:\n",
    "    idx += i\n",
    "    s.append(idx)\n",
    "\n",
    "for _ in range(Q):\n",
    "    C, A, B = map(int, input().split())\n",
    "    print(query(C, A, B))"
   ]
  },
  {
   "cell_type": "code",
   "execution_count": null,
   "id": "8d3aaa79",
   "metadata": {},
   "outputs": [],
   "source": [
    "### # import sys\n",
    "\n",
    "# # input = sys.stdin.readline\n",
    "\n",
    "# N, Q, U, V = map(int, input().split())\n",
    "# K = list(map(int, input().split()))\n",
    "\n",
    "\n",
    "# s = [0 for x in range(4*len(K))]\n",
    "\n",
    "# def query(start, end, node, left, right):\n",
    "#     if end < left or start > right:\n",
    "#         return 0\n",
    "    \n",
    "#     if start <= left and right <= end:\n",
    "        \n",
    "#         return s[node]\n",
    "    \n",
    "#     mid = left + (right - left) // 2\n",
    "#     left_val = query(start, end, 2 * node, left, mid)\n",
    "#     right_val = query(start, end, 2 * node + 1, mid + 1, right)\n",
    "    \n",
    "#     return merge(left_val, right_val)\n",
    "\n",
    "# for _ in range(Q):\n",
    "#     C, A, B = map(int, input().split())\n",
    "#     if C == 0:\n",
    "#         for i in range(A, B+1):\n",
    "#             for j in range(i, B+1):\n",
    "#                 print(query(i, j, 1, 0, len(K) - 1))\n",
    "\n",
    "#     else:\n",
    "#         for z in range(A, len(s)):\n",
    "#             s[z] = s[z] + (B - K[A+1])"
   ]
  },
  {
   "cell_type": "code",
   "execution_count": null,
   "id": "1395c09b",
   "metadata": {},
   "outputs": [],
   "source": [
    "# # 재귀 이용?\n",
    "\n",
    "# # import sys\n",
    "\n",
    "# # input = sys.stdin.readline\n",
    "\n",
    "# N, Q, U, V = map(int, input().split())\n",
    "# K = list(map(int, input().split()))\n",
    "\n",
    "# idx = 0\n",
    "# s = [0]\n",
    "\n",
    "# for i in K:\n",
    "#     idx += i\n",
    "#     s.append(idx)\n",
    "\n",
    "\n",
    "# def merge(left, right):\n",
    "#     return left + right\n",
    "\n",
    "# def build():\n",
    "#     if left == right:\n",
    "#         s[node] = K[left]\n",
    "#         return s[node]\n",
    "#     mid"
   ]
  },
  {
   "cell_type": "code",
   "execution_count": 11,
   "id": "8fe965f0",
   "metadata": {},
   "outputs": [
    {
     "name": "stdout",
     "output_type": "stream",
     "text": [
      "5 3 2 4\n",
      "1 1 1 1 1\n",
      "0 1 5\n",
      "26\n",
      "1 3 -2\n",
      "0 1 5\n",
      "20\n"
     ]
    }
   ],
   "source": [
    "# import sys\n",
    "\n",
    "# input = sys.stdin.readline\n",
    "\n",
    "N, Q, U, V = map(int, input().split())\n",
    "K = list(map(int, input().split()))\n",
    "\n",
    "idx = 0\n",
    "s = [0]\n",
    "k = [K]\n",
    "\n",
    "for i in K:\n",
    "    idx += i\n",
    "    s.append(idx)\n",
    "    \n",
    "dp = [[0]*(N+1) for i in range(N+1)]\n",
    "    \n",
    "for i in range(1, N+1):\n",
    "    for j in range(1, N+1):\n",
    "        dp[i][j] = dp[i][j-1] + dp[i-1][j] - dp[i-1][j-1] + k[i-1][j-1]\n",
    "\n",
    "for _ in range(Q):\n",
    "    C, A, B = map(int, input().split())\n",
    "    if C == 0:\n",
    "        max_total = 0\n",
    "        for i in range(A, B+1):\n",
    "            for j in range(i, B+1):\n",
    "                total = 0\n",
    "                total += (U*(s[j] - s[i-1]) + (V * (j-i)))\n",
    "            max_total = max(max_total, total)\n",
    "        print(max_total)\n",
    "    else:\n",
    "        for z in range(A, len(s)):\n",
    "            s[z] = s[z] + (B - K[A+1])"
   ]
  },
  {
   "cell_type": "code",
   "execution_count": 9,
   "id": "a1693d6c",
   "metadata": {},
   "outputs": [
    {
     "name": "stdout",
     "output_type": "stream",
     "text": [
      "5 3 2 4\n",
      "1 1 1 1 1\n",
      "0 1 5\n",
      "26\n",
      "1 3 -2\n",
      "[0, 1, 2, 3, 4, 5]\n",
      "0 1 5\n",
      "20\n"
     ]
    }
   ],
   "source": [
    "# import sys\n",
    "\n",
    "# input = sys.stdin.readline\n",
    "\n",
    "N, Q, U, V = map(int, input().split())\n",
    "K = list(map(int, input().split()))\n",
    "\n",
    "for _ in range(Q):\n",
    "    idx = 0\n",
    "    s = [0]\n",
    "    \n",
    "    for i in K:\n",
    "        idx += i\n",
    "        s.append(idx)\n",
    "\n",
    "    C, A, B = map(int, input().split())\n",
    "    if C == 0:\n",
    "        r = []\n",
    "        for i in range(A, B+1):\n",
    "            for j in range(i, B+1):\n",
    "                r.append(U*(s[j] - s[i-1]) + (V * (j-i)))\n",
    "        print(sorted(r, reverse = True)[0])\n",
    "    else:\n",
    "        K[A+1] = B\n",
    "        print(s)"
   ]
  },
  {
   "cell_type": "markdown",
   "id": "a5531b19",
   "metadata": {},
   "source": [
    "# 10986번. 나머지 합\n",
    "- https://www.acmicpc.net/problem/10986\n",
    "- 수 N개 A1, A2, ..., AN이 주어진다. 이때, 연속된 부분 구간의 합이 M으로 나누어 떨어지는 구간의 개수를 구하는 프로그램을 작성하시오.즉, Ai + ... + Aj (i ≤ j) 의 합이 M으로 나누어 떨어지는 (i, j) 쌍의 개수를 구해야 한다."
   ]
  },
  {
   "cell_type": "code",
   "execution_count": 9,
   "id": "f153d36e",
   "metadata": {},
   "outputs": [
    {
     "name": "stdout",
     "output_type": "stream",
     "text": [
      "5 3\n",
      "1 2 3 1 2\n",
      "7\n"
     ]
    }
   ],
   "source": [
    "# 통과~!\n",
    "\n",
    "# import sys\n",
    "\n",
    "# input = sys.stdin.readline\n",
    "\n",
    "N, M = map(int, input().split())\n",
    "A = list(map(int, input().split()))\n",
    "\n",
    "s = [0] * M\n",
    "r = 0\n",
    "\n",
    "for i in range(N):\n",
    "    r += A[i]     \n",
    "    s[r % M] += 1\n",
    "\n",
    "    \n",
    "result = s[0]\n",
    "    \n",
    "for k in s:\n",
    "    result += k*(k - 1) // 2\n",
    "    \n",
    "print(result)"
   ]
  },
  {
   "cell_type": "markdown",
   "id": "624125a0",
   "metadata": {},
   "source": [
    "# 1940. 주몽\n",
    "- https://www.acmicpc.net/problem/1940"
   ]
  },
  {
   "cell_type": "code",
   "execution_count": null,
   "id": "4de50a00",
   "metadata": {},
   "outputs": [],
   "source": [
    "# 통과~! \n",
    "\n",
    "import sys\n",
    "\n",
    "# input = sys.stdin.readline\n",
    "\n",
    "N = int(input())\n",
    "M = int(input())\n",
    "A = sorted(list(map(int, input().split())))\n",
    "\n",
    "cnt = 0\n",
    "l, r = 0, N-1\n",
    "\n",
    "while l < r:\n",
    "    if A[l] + A[r] == M:\n",
    "        cnt += 1\n",
    "        l += 1\n",
    "        r -= 1\n",
    "    elif A[l] + A[r] < M:\n",
    "        l += 1\n",
    "        \n",
    "    elif A[l] + A[r] > M:\n",
    "        r -= 1\n",
    "        \n",
    "print(cnt)"
   ]
  }
 ],
 "metadata": {
  "kernelspec": {
   "display_name": "Python 3 (ipykernel)",
   "language": "python",
   "name": "python3"
  },
  "language_info": {
   "codemirror_mode": {
    "name": "ipython",
    "version": 3
   },
   "file_extension": ".py",
   "mimetype": "text/x-python",
   "name": "python",
   "nbconvert_exporter": "python",
   "pygments_lexer": "ipython3",
   "version": "3.9.13"
  }
 },
 "nbformat": 4,
 "nbformat_minor": 5
}
