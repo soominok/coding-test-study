{
 "cells": [
  {
   "cell_type": "markdown",
   "id": "63525614",
   "metadata": {},
   "source": [
    "# 1081. 합\n",
    "- L보다 크거나 같고, U보다 작거나 같은 모든 정수의 각 자리의 합을 구하는 프로그램을 작성하시오."
   ]
  },
  {
   "cell_type": "code",
   "execution_count": 20,
   "id": "7c1d324a",
   "metadata": {},
   "outputs": [
    {
     "name": "stdout",
     "output_type": "stream",
     "text": [
      "10 14\n",
      "15\n"
     ]
    }
   ],
   "source": [
    "L, U = input().split(' ')\n",
    "\n",
    "one_list = []\n",
    "\n",
    "for i in range(int(L), int(U)+1):\n",
    "    one = list(map(int, str(i)))\n",
    "    one_list += one\n",
    "    \n",
    "print(sum(one_list))"
   ]
  },
  {
   "cell_type": "code",
   "execution_count": 32,
   "id": "cb88268c",
   "metadata": {},
   "outputs": [
    {
     "name": "stdout",
     "output_type": "stream",
     "text": [
      "10 14\n",
      "15\n"
     ]
    }
   ],
   "source": [
    "L, U = input().split(' ')\n",
    "\n",
    "\n",
    "print(sum([int(k) for i in range(int(L), int(U)+1) for k in str(i)]))"
   ]
  },
  {
   "cell_type": "markdown",
   "id": "90f3d3e6",
   "metadata": {},
   "source": [
    "# 1132. 합\n",
    "- N개의 수가 주어진다. 이 숫자는 모두 자연수이고, 알파벳 A부터 J가 자리수를 대신해서 쓰여 있다. 이 알파벳은 모두 한 자리를 의미한다. 그리고, 각 자리수는 정확하게 알파벳 하나이다. 0으로 시작하는 수는 없다. 이때, 가능한 수의 합 중 최댓값을 구해보자."
   ]
  },
  {
   "cell_type": "code",
   "execution_count": null,
   "id": "b54fec98",
   "metadata": {},
   "outputs": [],
   "source": []
  }
 ],
 "metadata": {
  "kernelspec": {
   "display_name": "Python 3 (ipykernel)",
   "language": "python",
   "name": "python3"
  },
  "language_info": {
   "codemirror_mode": {
    "name": "ipython",
    "version": 3
   },
   "file_extension": ".py",
   "mimetype": "text/x-python",
   "name": "python",
   "nbconvert_exporter": "python",
   "pygments_lexer": "ipython3",
   "version": "3.9.12"
  }
 },
 "nbformat": 4,
 "nbformat_minor": 5
}
