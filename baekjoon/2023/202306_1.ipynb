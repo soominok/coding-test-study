{
 "cells": [
  {
   "cell_type": "markdown",
   "id": "63525614",
   "metadata": {},
   "source": [
    "# 1081. 합\n",
    "- L보다 크거나 같고, U보다 작거나 같은 모든 정수의 각 자리의 합을 구하는 프로그램을 작성하시오."
   ]
  },
  {
   "cell_type": "code",
   "execution_count": 20,
   "id": "7c1d324a",
   "metadata": {},
   "outputs": [
    {
     "name": "stdout",
     "output_type": "stream",
     "text": [
      "10 14\n",
      "15\n"
     ]
    }
   ],
   "source": [
    "L, U = input().split(' ')\n",
    "\n",
    "one_list = []\n",
    "\n",
    "for i in range(int(L), int(U)+1):\n",
    "    one = list(map(int, str(i)))\n",
    "    one_list += one\n",
    "    \n",
    "print(sum(one_list))"
   ]
  },
  {
   "cell_type": "code",
   "execution_count": 32,
   "id": "cb88268c",
   "metadata": {},
   "outputs": [
    {
     "name": "stdout",
     "output_type": "stream",
     "text": [
      "10 14\n",
      "15\n"
     ]
    }
   ],
   "source": [
    "L, U = input().split(' ')\n",
    "\n",
    "\n",
    "print(sum([int(k) for i in range(int(L), int(U)+1) for k in str(i)]))"
   ]
  },
  {
   "cell_type": "markdown",
   "id": "90f3d3e6",
   "metadata": {},
   "source": [
    "# 1132. 합\n",
    "- N개의 수가 주어진다. 이 숫자는 모두 자연수이고, 알파벳 A부터 J가 자리수를 대신해서 쓰여 있다. 이 알파벳은 모두 한 자리를 의미한다. 그리고, 각 자리수는 정확하게 알파벳 하나이다. 0으로 시작하는 수는 없다. 이때, 가능한 수의 합 중 최댓값을 구해보자."
   ]
  },
  {
   "cell_type": "code",
   "execution_count": null,
   "id": "b54fec98",
   "metadata": {},
   "outputs": [],
   "source": []
  },
  {
   "cell_type": "markdown",
   "id": "bac9ce7d",
   "metadata": {},
   "source": [
    "# 1182. 부분수열의 합\n",
    "- N개의 정수로 이루어진 수열이 있을 때, 크기가 양수인 부분수열 중에서 그 수열의 원소를 다 더한 값이 S가 되는 경우의 수를 구하는 프로그램을 작성하시오.\n",
    "- https://www.acmicpc.net/problem/1182"
   ]
  },
  {
   "cell_type": "code",
   "execution_count": 1,
   "id": "09efdafc",
   "metadata": {
    "scrolled": true
   },
   "outputs": [
    {
     "name": "stdout",
     "output_type": "stream",
     "text": [
      "5 0\n",
      "-7 -3 -2 5 8\n",
      "(-7,)\n",
      "(-3,)\n",
      "(-2,)\n",
      "(5,)\n",
      "(8,)\n",
      "(-7, -3)\n",
      "(-7, -2)\n",
      "(-7, 5)\n",
      "(-7, 8)\n",
      "(-3, -2)\n",
      "(-3, 5)\n",
      "(-3, 8)\n",
      "(-2, 5)\n",
      "(-2, 8)\n",
      "(5, 8)\n",
      "(-7, -3, -2)\n",
      "(-7, -3, 5)\n",
      "(-7, -3, 8)\n",
      "(-7, -2, 5)\n",
      "(-7, -2, 8)\n",
      "(-7, 5, 8)\n",
      "(-3, -2, 5)\n",
      "(-3, -2, 8)\n",
      "(-3, 5, 8)\n",
      "(-2, 5, 8)\n",
      "(-7, -3, -2, 5)\n",
      "(-7, -3, -2, 8)\n",
      "(-7, -3, 5, 8)\n",
      "(-7, -2, 5, 8)\n",
      "(-3, -2, 5, 8)\n",
      "(-7, -3, -2, 5, 8)\n",
      "1\n"
     ]
    }
   ],
   "source": [
    "from itertools import combinations\n",
    "\n",
    "N,S = map(int,input().split())\n",
    "example = list(map(int,input().split()))\n",
    "\n",
    "\n",
    "check_number = 0\n",
    "cnt = 0\n",
    "\n",
    "\n",
    "for i in range(1,N+1):\n",
    "    for j in combinations(example, i):\n",
    "        print(j)\n",
    "        if sum(j) == S:\n",
    "            cnt+=1\n",
    "    \n",
    "print(cnt)\n",
    "# print()"
   ]
  },
  {
   "cell_type": "code",
   "execution_count": 16,
   "id": "d8a98c0b",
   "metadata": {},
   "outputs": [
    {
     "name": "stdout",
     "output_type": "stream",
     "text": [
      "5 0\n",
      "-7 -3 -2 5 8\n",
      "[-7, -3, -2, 5, 8]\n",
      "[8]\n",
      "[5, 8]\n",
      "[-2, 5, 8]\n",
      "[-3, -2, 5, 8]\n",
      "[-7, -3, -2, 5, 8]\n"
     ]
    },
    {
     "data": {
      "text/plain": [
       "[[-7, -3, -2, 5, 8]]"
      ]
     },
     "execution_count": 16,
     "metadata": {},
     "output_type": "execute_result"
    }
   ],
   "source": [
    "N, S = map(int, input().split())\n",
    "seq = list(map(int, input().split()))\n",
    "print(seq)\n",
    "\n",
    "cnt = 0\n",
    "\n",
    "def gen_comb(seq, n):\n",
    "    result = []\n",
    "    if n == 0:\n",
    "        return [[]]\n",
    "    \n",
    "    for i in range(0, len(seq)):\n",
    "        elem = seq[i]\n",
    "        rest_arr = seq[i + 1:]\n",
    "        for C in gen_comb(rest_arr, n-1):\n",
    "            print([elem] + C)\n",
    "            result.append([elem] + C)\n",
    "            \n",
    "    return result\n",
    "\n",
    "gen_comb(seq, N)"
   ]
  },
  {
   "cell_type": "code",
   "execution_count": null,
   "id": "71a6280f",
   "metadata": {},
   "outputs": [
    {
     "name": "stdout",
     "output_type": "stream",
     "text": [
      "5 0\n",
      "-7 -3 -2 5 8\n"
     ]
    }
   ],
   "source": [
    "N, S = map(int, input().split())\n",
    "seq = list(map(int, input().split()))\n",
    "print(seq)\n",
    "\n",
    "cnt = 0\n",
    "\n",
    "def gen_comb(c, arr, r):\n",
    "    if len(c) == r:\n",
    "        print(c)\n",
    "        return\n",
    "\n",
    "    start = arr.index(c[-1]) + 1 if c else 0\n",
    "    for nxt in range(start, len(arr)):\n",
    "        arr.append(arr[nxt])\n",
    "        gen_comb(c, arr, n)\n",
    "        c.pop()\n",
    "    gen_comb([], arr, n)\n",
    "\n",
    "for n in range(N):\n",
    "    gen_comb([], seq, n)"
   ]
  },
  {
   "cell_type": "code",
   "execution_count": 14,
   "id": "a5c1cedc",
   "metadata": {
    "scrolled": true
   },
   "outputs": [
    {
     "name": "stdout",
     "output_type": "stream",
     "text": [
      "5 0\n",
      "-7 -3 -2 5 8\n",
      "[-7, -3, -2, 5, 8]\n",
      "1\n"
     ]
    }
   ],
   "source": [
    "N, S = map(int, input().split())\n",
    "seq = list(map(int, input().split()))\n",
    "print(seq)\n",
    "\n",
    "def comb(arr, n):\n",
    "    result = []\n",
    "    if n > len(arr):\n",
    "        return result\n",
    "    \n",
    "    if n == 1:\n",
    "        for i in arr:\n",
    "            result.append([i])\n",
    "    elif n > 1:\n",
    "        for i in range(len(arr) - n + 1):\n",
    "            for j in comb(arr[i + 1:], n - 1):\n",
    "                result.append([arr[i]] + j)\n",
    "    return result\n",
    "\n",
    "cnt = 0\n",
    "\n",
    "for n in range(1, N + 1):\n",
    "    print(comb(seq, n))\n",
    "    for s in range(len(comb(seq, n))):\n",
    "        if sum(comb(seq, n)[s]) == S\n",
    "            cnt += 1\n",
    "            \n",
    "print(cnt)\n",
    "\n",
    "## 시간초과!"
   ]
  },
  {
   "cell_type": "code",
   "execution_count": 18,
   "id": "19919a74",
   "metadata": {},
   "outputs": [
    {
     "name": "stdout",
     "output_type": "stream",
     "text": [
      "5 0 \n",
      "-7 -3 -2 5 8\n",
      "[-7, -3, -2, 5, 8]\n",
      "1\n"
     ]
    }
   ],
   "source": [
    "N, S = map(int, input().split())\n",
    "seq = list(map(int, input().split()))\n",
    "print(seq)\n",
    "\n",
    "def comb(arr, n):\n",
    "    result = []\n",
    "    if n > len(arr):\n",
    "        return result\n",
    "    \n",
    "    if n == 1:\n",
    "        result = [[i] for i in arr]\n",
    "        return result\n",
    "    \n",
    "    for i in range(len(arr)):\n",
    "        elem = arr[i]\n",
    "        c = comb(arr[i+1:], n-1)\n",
    "        for rest in c:\n",
    "            result.append([elem]+rest)\n",
    "    return result\n",
    "    \n",
    "cnt = 0\n",
    "\n",
    "for n in range(1, N + 1):\n",
    "    for s in range(len(comb(seq, n))):\n",
    "        if sum(comb(seq, n)[s]) == S:\n",
    "            cnt += 1\n",
    "            \n",
    "print(cnt)\n",
    "\n",
    "# 시간초과!"
   ]
  },
  {
   "cell_type": "code",
   "execution_count": 28,
   "id": "29b3c1dc",
   "metadata": {},
   "outputs": [
    {
     "name": "stdout",
     "output_type": "stream",
     "text": [
      "5 0\n",
      "-7 -3 -2 5 8\n",
      "(-3, -2, 5)\n",
      "1\n"
     ]
    }
   ],
   "source": [
    "## 정답!\n",
    "\n",
    "from itertools import combinations\n",
    "\n",
    "N, S = map(int, input().split())\n",
    "seq = list(map(int, input().split()))\n",
    "\n",
    "cnt = 0\n",
    "\n",
    "for i in range(1, len(seq) + 1):\n",
    "    for j in combinations(seq, i):\n",
    "        if sum(j) == S:\n",
    "            cnt += 1\n",
    "print(cnt)"
   ]
  },
  {
   "cell_type": "markdown",
   "id": "97d4ac4f",
   "metadata": {},
   "source": [
    "# 2884. 알람시계\n",
    "- 상근이는 매일 아침 알람을 듣고 일어난다. 알람을 듣고 바로 일어나면 다행이겠지만, 항상 조금만 더 자려는 마음 때문에 매일 학교를 지각하고 있다.\n",
    "\n",
    "- 상근이는 모든 방법을 동원해보았지만, 조금만 더 자려는 마음은 그 어떤 것도 없앨 수가 없었다.\n",
    "\n",
    "- 이런 상근이를 불쌍하게 보던 창영이는 자신이 사용하는 방법을 추천해 주었다.\n",
    "\n",
    "- 바로 \"45분 일찍 알람 설정하기\"이다.\n",
    "\n",
    "- 이 방법은 단순하다. 원래 설정되어 있는 알람을 45분 앞서는 시간으로 바꾸는 것이다. 어차피 알람 소리를 들으면, 알람을 끄고 조금 더 잘 것이기 때문이다. 이 방법을 사용하면, 매일 아침 더 잤다는 기분을 느낄 수 있고, 학교도 지각하지 않게 된다.\n",
    "\n",
    "- 현재 상근이가 설정한 알람 시각이 주어졌을 때, 창영이의 방법을 사용한다면, 이를 언제로 고쳐야 하는지 구하는 프로그램을 작성하시오.\n",
    "\n",
    "- https://www.acmicpc.net/problem/2884"
   ]
  },
  {
   "cell_type": "code",
   "execution_count": 39,
   "id": "c9e9849c",
   "metadata": {},
   "outputs": [
    {
     "name": "stdout",
     "output_type": "stream",
     "text": [
      "23 40\n",
      "22 55\n"
     ]
    }
   ],
   "source": [
    "H, M = map(int, input().split())\n",
    "\n",
    "r_m = M - 45\n",
    "if r_m < 0:\n",
    "    if H-1 < 0:\n",
    "        r_h = 23\n",
    "    else:\n",
    "        r_h = H-1\n",
    "    r_m = 60 + r_m\n",
    "else:\n",
    "    r_h = H\n",
    "\n",
    "print(r_h, r_m)"
   ]
  },
  {
   "cell_type": "markdown",
   "id": "d7aeb92d",
   "metadata": {},
   "source": []
  }
 ],
 "metadata": {
  "kernelspec": {
   "display_name": "Python 3 (ipykernel)",
   "language": "python",
   "name": "python3"
  },
  "language_info": {
   "codemirror_mode": {
    "name": "ipython",
    "version": 3
   },
   "file_extension": ".py",
   "mimetype": "text/x-python",
   "name": "python",
   "nbconvert_exporter": "python",
   "pygments_lexer": "ipython3",
   "version": "3.9.13"
  }
 },
 "nbformat": 4,
 "nbformat_minor": 5
}
