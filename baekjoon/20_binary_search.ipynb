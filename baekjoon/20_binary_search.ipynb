{
 "cells": [
  {
   "cell_type": "markdown",
   "metadata": {},
   "source": [
    "## 1920. 수 찾기"
   ]
  },
  {
   "cell_type": "code",
   "execution_count": 4,
   "metadata": {},
   "outputs": [
    {
     "name": "stdout",
     "output_type": "stream",
     "text": [
      "5\n",
      "4 1 5 2 3\n",
      "5\n",
      "1 3 7 9 5\n",
      "1\n",
      "1\n",
      "0\n",
      "0\n",
      "1\n"
     ]
    }
   ],
   "source": [
    "N = int(input())\n",
    "A = sorted(map(int, input().split()))\n",
    "M = int(input())\n",
    "B = map(int, input().split())\n",
    "\n",
    "def binary_search(target, N, start, end):\n",
    "    if start > end :\n",
    "        return 0\n",
    "    mid = (start + end) // 2\n",
    "    if A[mid] == target:\n",
    "        return 1\n",
    "    elif A[mid] > target:\n",
    "        return binary_search(target, N, start, mid-1)\n",
    "    else:\n",
    "        return binary_search(target, N, mid+1, end)\n",
    "    \n",
    "for target in B:\n",
    "    start = 0\n",
    "    end = len(A) - 1\n",
    "    print(binary_search(target, N, start, end))"
   ]
  },
  {
   "cell_type": "markdown",
   "metadata": {},
   "source": [
    "## 2110. 공유기 설치"
   ]
  },
  {
   "cell_type": "code",
   "execution_count": 17,
   "metadata": {},
   "outputs": [
    {
     "ename": "ValueError",
     "evalue": "not enough values to unpack (expected 2, got 0)",
     "output_type": "error",
     "traceback": [
      "\u001b[1;31m---------------------------------------------------------------------------\u001b[0m",
      "\u001b[1;31mValueError\u001b[0m                                Traceback (most recent call last)",
      "\u001b[1;32m<ipython-input-17-a604a77d2cc1>\u001b[0m in \u001b[0;36m<module>\u001b[1;34m\u001b[0m\n\u001b[0;32m      1\u001b[0m \u001b[1;32mimport\u001b[0m \u001b[0msys\u001b[0m\u001b[1;33m\u001b[0m\u001b[1;33m\u001b[0m\u001b[0m\n\u001b[0;32m      2\u001b[0m \u001b[1;32mfrom\u001b[0m \u001b[0mbisect\u001b[0m \u001b[1;32mimport\u001b[0m \u001b[0mbisect_left\u001b[0m\u001b[1;33m,\u001b[0m \u001b[0mbisect_right\u001b[0m\u001b[1;33m\u001b[0m\u001b[1;33m\u001b[0m\u001b[0m\n\u001b[1;32m----> 3\u001b[1;33m \u001b[0mN\u001b[0m\u001b[1;33m,\u001b[0m \u001b[0mC\u001b[0m \u001b[1;33m=\u001b[0m \u001b[0mmap\u001b[0m\u001b[1;33m(\u001b[0m\u001b[0mint\u001b[0m\u001b[1;33m,\u001b[0m \u001b[0msys\u001b[0m\u001b[1;33m.\u001b[0m\u001b[0mstdin\u001b[0m\u001b[1;33m.\u001b[0m\u001b[0mreadline\u001b[0m\u001b[1;33m(\u001b[0m\u001b[1;33m)\u001b[0m\u001b[1;33m.\u001b[0m\u001b[0msplit\u001b[0m\u001b[1;33m(\u001b[0m\u001b[1;33m)\u001b[0m\u001b[1;33m)\u001b[0m\u001b[1;33m\u001b[0m\u001b[1;33m\u001b[0m\u001b[0m\n\u001b[0m\u001b[0;32m      4\u001b[0m \u001b[0mx\u001b[0m \u001b[1;33m=\u001b[0m \u001b[0msorted\u001b[0m\u001b[1;33m(\u001b[0m\u001b[1;33m[\u001b[0m\u001b[0mint\u001b[0m\u001b[1;33m(\u001b[0m\u001b[0msys\u001b[0m\u001b[1;33m.\u001b[0m\u001b[0mstdin\u001b[0m\u001b[1;33m.\u001b[0m\u001b[0mreadline\u001b[0m\u001b[1;33m(\u001b[0m\u001b[1;33m)\u001b[0m\u001b[1;33m)\u001b[0m \u001b[1;32mfor\u001b[0m \u001b[0m_\u001b[0m \u001b[1;32min\u001b[0m \u001b[0mrange\u001b[0m\u001b[1;33m(\u001b[0m\u001b[0mN\u001b[0m\u001b[1;33m)\u001b[0m\u001b[1;33m]\u001b[0m\u001b[1;33m)\u001b[0m\u001b[1;33m\u001b[0m\u001b[1;33m\u001b[0m\u001b[0m\n\u001b[0;32m      5\u001b[0m \u001b[1;33m\u001b[0m\u001b[0m\n",
      "\u001b[1;31mValueError\u001b[0m: not enough values to unpack (expected 2, got 0)"
     ]
    }
   ],
   "source": [
    "import sys\n",
    "from bisect import bisect_left, bisect_right \n",
    "N, C = map(int, sys.stdin.readline().split())\n",
    "x = sorted([int(sys.stdin.readline()) for _ in range(N)])\n",
    "\n",
    "min_dist = x[1] - x[0]\n",
    "max_dist = x[-1] - x[0]\n",
    "result = 0\n",
    "\n",
    "while min_dist <= max_dist:\n",
    "    mid = (min_dist + max_dist) // 2\n",
    "    start = x[0]\n",
    "    count = 1\n",
    "    \n",
    "    for i in range(1, len(x)):\n",
    "        if x[i] >= start + mid:\n",
    "            count += 1\n",
    "            start = x[i]\n",
    "    if count >= C:\n",
    "        min_dist = mid + 1\n",
    "        result = mid\n",
    "    else:\n",
    "        max_dist = mid - 1\n",
    "        \n",
    "print(result)"
   ]
  },
  {
   "cell_type": "code",
   "execution_count": 22,
   "metadata": {},
   "outputs": [
    {
     "name": "stdout",
     "output_type": "stream",
     "text": [
      "5 3 \n",
      "1\n",
      "2\n",
      "4\n",
      "9\n",
      "8\n",
      "3\n"
     ]
    }
   ],
   "source": [
    "from bisect import bisect_left, bisect_right \n",
    "N, C = map(int, input().split())\n",
    "x = [int(input()) for _ in range(N)]\n",
    "x.sort()\n",
    "\n",
    "min_dist = x[1] - x[0]\n",
    "max_dist = x[-1] - x[0]\n",
    "result = 0\n",
    "\n",
    "while (min_dist <= max_dist):\n",
    "    mid = (min_dist + max_dist) // 2\n",
    "    start = x[0]\n",
    "    count = 1\n",
    "    \n",
    "    for i in range(1, N):\n",
    "        if x[i] - start >= mid:\n",
    "            count += 1\n",
    "            start = x[i]\n",
    "    if count >= C:\n",
    "        min_dist = mid + 1\n",
    "        result = mid\n",
    "    else:\n",
    "        max_dist = mid - 1\n",
    "        \n",
    "print(result) "
   ]
  },
  {
   "cell_type": "code",
   "execution_count": null,
   "metadata": {},
   "outputs": [],
   "source": []
  }
 ],
 "metadata": {
  "kernelspec": {
   "display_name": "Python 3",
   "language": "python",
   "name": "python3"
  },
  "language_info": {
   "codemirror_mode": {
    "name": "ipython",
    "version": 3
   },
   "file_extension": ".py",
   "mimetype": "text/x-python",
   "name": "python",
   "nbconvert_exporter": "python",
   "pygments_lexer": "ipython3",
   "version": "3.8.3"
  }
 },
 "nbformat": 4,
 "nbformat_minor": 4
}
