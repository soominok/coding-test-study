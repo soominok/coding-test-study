{
 "cells": [
  {
   "cell_type": "markdown",
   "metadata": {},
   "source": []
  },
  {
   "cell_type": "markdown",
   "metadata": {},
   "source": [
    "## 2447. 별 찍기 - 10"
   ]
  },
  {
   "cell_type": "code",
   "execution_count": 10,
   "metadata": {},
   "outputs": [],
   "source": [
    "def stars(n):\n",
    "    matrix = []\n",
    "    for i in range(3 * len(n)):\n",
    "        if i // 3 == 1:\n",
    "            matrix.append(n[i % len(n)] + \"\" * len(N) + N[i % len(N)])\n",
    "        else:\n",
    "            matrix.append(N[i % len(N)] * 3)\n",
    "    return(list(martix))\n",
    "\n",
    "# star = [\"***\", \"* *\", \"***\"]\n",
    "# N = int(input())\n",
    "# k = 0\n",
    "\n",
    "# while N != 3:\n",
    "    "
   ]
  },
  {
   "cell_type": "code",
   "execution_count": 23,
   "metadata": {},
   "outputs": [
    {
     "name": "stdout",
     "output_type": "stream",
     "text": [
      "9\n",
      "*********\n",
      "* ** ** *\n",
      "*********\n",
      "***   ***\n",
      "* *   * *\n",
      "***   ***\n",
      "*********\n",
      "* ** ** *\n",
      "*********\n"
     ]
    }
   ],
   "source": [
    "def get_stars(n):\n",
    "    matrix = []\n",
    "    for i in range(3*len(n)):\n",
    "        if i // len(n) == 1:\n",
    "            matrix.append(n[i % len(n)] + \" \" * len(n) + n[i % len(n)])\n",
    "        else:\n",
    "            matrix.append(n[i % len(n)] * 3)\n",
    "    return matrix\n",
    " \n",
    "\n",
    "star = [\"***\", \"* *\", \"***\"]\n",
    "n = int(input())\n",
    "e = 0\n",
    "while n != 3:\n",
    "    n = int(n / 3)\n",
    "    e += 1\n",
    "    \n",
    "for i in range(e):\n",
    "    star = get_stars(star)\n",
    "for i in star:\n",
    "    print(i)\n"
   ]
  },
  {
   "cell_type": "code",
   "execution_count": 18,
   "metadata": {},
   "outputs": [
    {
     "name": "stdout",
     "output_type": "stream",
     "text": [
      "0\n",
      "1\n",
      "2\n",
      "3\n",
      "4\n",
      "5\n",
      "6\n",
      "7\n",
      "8\n"
     ]
    }
   ],
   "source": [
    "star = [\"***\", \"* *\", \"***\"]\n",
    "\n",
    "for i in range(3 * len(star)):\n",
    "    print(i)"
   ]
  },
  {
   "cell_type": "code",
   "execution_count": null,
   "metadata": {},
   "outputs": [],
   "source": []
  }
 ],
 "metadata": {
  "kernelspec": {
   "display_name": "Python 3",
   "language": "python",
   "name": "python3"
  },
  "language_info": {
   "codemirror_mode": {
    "name": "ipython",
    "version": 3
   },
   "file_extension": ".py",
   "mimetype": "text/x-python",
   "name": "python",
   "nbconvert_exporter": "python",
   "pygments_lexer": "ipython3",
   "version": "3.8.3"
  }
 },
 "nbformat": 4,
 "nbformat_minor": 4
}
