{
 "cells": [
  {
   "cell_type": "markdown",
   "metadata": {},
   "source": [
    "## 2839. 설탕 배달"
   ]
  },
  {
   "cell_type": "code",
   "execution_count": 2,
   "metadata": {},
   "outputs": [
    {
     "name": "stdout",
     "output_type": "stream",
     "text": [
      "18\n"
     ]
    },
    {
     "ename": "NameError",
     "evalue": "name 'suagr_two' is not defined",
     "output_type": "error",
     "traceback": [
      "\u001b[1;31m---------------------------------------------------------------------------\u001b[0m",
      "\u001b[1;31mNameError\u001b[0m                                 Traceback (most recent call last)",
      "\u001b[1;32m<ipython-input-2-e681cf0191b0>\u001b[0m in \u001b[0;36m<module>\u001b[1;34m\u001b[0m\n\u001b[0;32m      9\u001b[0m     \u001b[0mN_two\u001b[0m \u001b[1;33m=\u001b[0m \u001b[0mN\u001b[0m \u001b[1;33m%\u001b[0m \u001b[0mone\u001b[0m\u001b[1;33m\u001b[0m\u001b[1;33m\u001b[0m\u001b[0m\n\u001b[0;32m     10\u001b[0m     \u001b[0msugar_two\u001b[0m \u001b[1;33m=\u001b[0m \u001b[0mN_two\u001b[0m \u001b[1;33m//\u001b[0m \u001b[0mone\u001b[0m\u001b[1;33m\u001b[0m\u001b[1;33m\u001b[0m\u001b[0m\n\u001b[1;32m---> 11\u001b[1;33m     \u001b[0mcnt\u001b[0m \u001b[1;33m+=\u001b[0m \u001b[0msuagr_two\u001b[0m\u001b[1;33m\u001b[0m\u001b[1;33m\u001b[0m\u001b[0m\n\u001b[0m\u001b[0;32m     12\u001b[0m \u001b[1;33m\u001b[0m\u001b[0m\n\u001b[0;32m     13\u001b[0m \u001b[0mprint\u001b[0m\u001b[1;33m(\u001b[0m\u001b[0mcnt\u001b[0m\u001b[1;33m)\u001b[0m\u001b[1;33m\u001b[0m\u001b[1;33m\u001b[0m\u001b[0m\n",
      "\u001b[1;31mNameError\u001b[0m: name 'suagr_two' is not defined"
     ]
    }
   ],
   "source": [
    "N = int(input())\n",
    "\n",
    "bongji_kg = [5, 3]\n",
    "cnt = 0\n",
    "\n",
    "for one in bongji_kg:\n",
    "    sugar_one = N // one\n",
    "    cnt += sugar_one\n",
    "    N_two = N % one\n",
    "    sugar_two = N_two // one\n",
    "    cnt += suagr_two\n",
    "    \n",
    "print(cnt)"
   ]
  },
  {
   "cell_type": "markdown",
   "metadata": {},
   "source": [
    "## 11399. ATM"
   ]
  },
  {
   "cell_type": "code",
   "execution_count": 10,
   "metadata": {},
   "outputs": [
    {
     "name": "stdout",
     "output_type": "stream",
     "text": [
      "5\n",
      "3 1 4 3 2\n",
      "32\n"
     ]
    }
   ],
   "source": [
    "N = int(input())\n",
    "data = list(map(int, input().split()))\n",
    "\n",
    "data.sort()\n",
    "result = 0\n",
    "time = 0\n",
    "\n",
    "for i in data:\n",
    "    time += i\n",
    "    result += time\n",
    "print(result)"
   ]
  },
  {
   "cell_type": "markdown",
   "metadata": {},
   "source": [
    "## 13305. 주유소"
   ]
  },
  {
   "cell_type": "code",
   "execution_count": 79,
   "metadata": {},
   "outputs": [
    {
     "name": "stdout",
     "output_type": "stream",
     "text": [
      "5\n",
      "3 2 1 4\n",
      "5 8 9 4 1\n",
      "46\n"
     ]
    }
   ],
   "source": [
    "N = int(input())\n",
    "dist = list(map(int, input().split()))\n",
    "price = list(map(int, input().split()))\n",
    "\n",
    "result = 0\n",
    "total_d = 0\n",
    "min_p = price[0]\n",
    "\n",
    "for i in range(N-1):\n",
    "    if price[i] >= min_p:\n",
    "        total_d += dist[i]\n",
    "    else:\n",
    "        if price[i] < min_p:\n",
    "            min_p = price[i]\n",
    "            total_d += dist[i]\n",
    "    result += min_p * total_d\n",
    "    total_d = 0\n",
    "\n",
    "print(result)\n"
   ]
  },
  {
   "cell_type": "code",
   "execution_count": null,
   "metadata": {},
   "outputs": [],
   "source": [
    "## print로 결과 확인한 코드\n",
    "\n",
    "N = int(input())\n",
    "dist = list(map(int, input().split()))\n",
    "price = list(map(int, input().split()))\n",
    "\n",
    "result = 0\n",
    "total_d = 0\n",
    "min_p = price[0]\n",
    "\n",
    "for i in range(N-1):\n",
    "    if price[i] >= min_p:\n",
    "#         min_p = price[i]\n",
    "        print('min_p: ' + str(min_p))\n",
    "        total_d += dist[i]\n",
    "        print('total_d: ' + str(total_d))\n",
    "    else:\n",
    "        if price[i] < min_p:\n",
    "            min_p = price[i]\n",
    "            total_d += dist[i]\n",
    "    result += min_p * total_d\n",
    "    total_d = 0\n",
    "    print('result :' + str(result))\n",
    "\n",
    "print(result)\n"
   ]
  },
  {
   "cell_type": "code",
   "execution_count": null,
   "metadata": {},
   "outputs": [],
   "source": []
  }
 ],
 "metadata": {
  "kernelspec": {
   "display_name": "Python 3",
   "language": "python",
   "name": "python3"
  },
  "language_info": {
   "codemirror_mode": {
    "name": "ipython",
    "version": 3
   },
   "file_extension": ".py",
   "mimetype": "text/x-python",
   "name": "python",
   "nbconvert_exporter": "python",
   "pygments_lexer": "ipython3",
   "version": "3.8.5"
  }
 },
 "nbformat": 4,
 "nbformat_minor": 4
}
