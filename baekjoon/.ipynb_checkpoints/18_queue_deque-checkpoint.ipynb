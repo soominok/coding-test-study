{
 "cells": [
  {
   "cell_type": "code",
   "execution_count": null,
   "metadata": {},
   "outputs": [],
   "source": []
  },
  {
   "cell_type": "markdown",
   "metadata": {},
   "source": [
    "## 2164. 카드2"
   ]
  },
  {
   "cell_type": "code",
   "execution_count": 23,
   "metadata": {},
   "outputs": [
    {
     "name": "stdout",
     "output_type": "stream",
     "text": [
      "6\n",
      "4\n"
     ]
    }
   ],
   "source": [
    "from collections import deque\n",
    "\n",
    "N = int(input())\n",
    "card = deque(i for i in range(1, N+1))\n",
    "\n",
    "while len(card) != 1:\n",
    "    card.popleft()\n",
    "    card.append(card.popleft())\n",
    "\n",
    "print(card.pop())"
   ]
  },
  {
   "cell_type": "code",
   "execution_count": 20,
   "metadata": {},
   "outputs": [
    {
     "name": "stdout",
     "output_type": "stream",
     "text": [
      "6\n",
      "deque([3, 4, 5, 6, 2])\n",
      "deque([5, 6, 2, 4])\n",
      "deque([2, 4, 6])\n",
      "deque([6, 4])\n",
      "deque([4])\n"
     ]
    }
   ],
   "source": [
    "from collections import deque\n",
    "\n",
    "N = int(input())\n",
    "queue = deque(i for i in range(1, N+1))\n",
    "\n",
    "def card2():\n",
    "    if len(queue) == 1:\n",
    "        return\n",
    "    queue.popleft()\n",
    "    queue.append(queue.popleft())\n",
    "    card2()\n",
    "\n",
    "card2()"
   ]
  },
  {
   "cell_type": "markdown",
   "metadata": {},
   "source": [
    "## 10866. 덱"
   ]
  },
  {
   "cell_type": "code",
   "execution_count": 30,
   "metadata": {},
   "outputs": [
    {
     "name": "stdout",
     "output_type": "stream",
     "text": [
      "15\n",
      "push_back 1\n",
      "push_front 2\n",
      "front\n",
      "back\n",
      "size\n",
      "empty\n",
      "pop_front\n",
      "pop_back\n",
      "pop_front\n",
      "size\n",
      "empty\n",
      "pop_back\n",
      "push_front 3\n",
      "empty\n",
      "front\n"
     ]
    }
   ],
   "source": [
    "from collections import deque\n",
    "\n",
    "N = int(input())\n",
    "deque = []\n",
    "\n",
    "for i in range(N):\n",
    "    command = input().split()\n",
    "    if \" \" in command:\n",
    "        a, b = command.split()\n",
    "        if a == 'push_front': \n",
    "            deque.append(0, b)\n",
    "        elif b == 'push_back' : \n",
    "            deque.append(b)\n",
    "    elif command == \"pop_front\":\n",
    "        if len(deque) == 0:\n",
    "            print(-1)\n",
    "        else:\n",
    "            print(deque.popleft())\n",
    "    elif command == \"pop_back\":\n",
    "        if len(deque) == 0:\n",
    "            print(-1)\n",
    "        else:\n",
    "            print(deque.pop())\n",
    "    elif command == \"size\":\n",
    "        print(len(deque))\n",
    "    elif command == \"empty\":\n",
    "        if len(deque) == 0:\n",
    "            print(1)\n",
    "        else:\n",
    "            print(0)\n",
    "    elif command == \"front\":\n",
    "        if len(deque) == 0:\n",
    "            print(-1)\n",
    "        else:\n",
    "            print(deque[0])\n",
    "    elif command == \"back\":\n",
    "        if len(deque) == 0:\n",
    "            print(-1)\n",
    "        else:\n",
    "            print(deque[-1])"
   ]
  },
  {
   "cell_type": "code",
   "execution_count": null,
   "metadata": {},
   "outputs": [],
   "source": []
  }
 ],
 "metadata": {
  "kernelspec": {
   "display_name": "Python 3",
   "language": "python",
   "name": "python3"
  },
  "language_info": {
   "codemirror_mode": {
    "name": "ipython",
    "version": 3
   },
   "file_extension": ".py",
   "mimetype": "text/x-python",
   "name": "python",
   "nbconvert_exporter": "python",
   "pygments_lexer": "ipython3",
   "version": "3.8.3"
  }
 },
 "nbformat": 4,
 "nbformat_minor": 4
}
