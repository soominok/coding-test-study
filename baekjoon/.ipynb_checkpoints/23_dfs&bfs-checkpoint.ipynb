{
 "cells": [
  {
   "cell_type": "markdown",
   "metadata": {},
   "source": [
    "## 1260. DFS와 BFS"
   ]
  },
  {
   "cell_type": "code",
   "execution_count": 15,
   "metadata": {},
   "outputs": [
    {
     "name": "stdout",
     "output_type": "stream",
     "text": [
      "4 5 1\n",
      "1 2\n",
      "1 3\n",
      "1 4\n",
      "2 4\n",
      "3 4\n",
      "1 2 4 3 \n",
      "1 2 3 4 "
     ]
    }
   ],
   "source": [
    "def dfs(v):\n",
    "    visited[v] = 1 \n",
    "    print(v, end = ' ')\n",
    "    for i in range(1, N+1):\n",
    "        if visited[i] == 0 and matrix[v][i] == 1:\n",
    "            dfs(i)\n",
    "\n",
    "def bfs(v):\n",
    "    queue = [v]\n",
    "    visited[v] = 0\n",
    "    while queue:\n",
    "        v = queue.pop(0)\n",
    "        print(v, end = ' ')\n",
    "        for i in range(1, N+1):\n",
    "            if visited[i] == 1 and matrix[v][i] == 1:\n",
    "                queue.append(i)\n",
    "                visited[i] = 0\n",
    "    \n",
    "N, M, V = map(int, input().split())\n",
    "matrix = [[0] * (N+1) for i in range(N+1)]\n",
    "\n",
    "for i in range(M):\n",
    "    a,b = map(int, input().split())\n",
    "    matrix[a][b] = matrix[b][a] = 1\n",
    "\n",
    "visited = [0] * (N+1)\n",
    "\n",
    "            \n",
    "dfs(V)\n",
    "print()\n",
    "bfs(V)"
   ]
  },
  {
   "cell_type": "code",
   "execution_count": null,
   "metadata": {},
   "outputs": [],
   "source": [
    "N, M, B = map(int, input().split())\n",
    "matrix = [[0] * (N+1) for i in range(N+1)]\n",
    "\n",
    "for i in ragnge(N):\n",
    "    a,b = map(int, input().split())\n",
    "    matrix[a][b] = matrix[b][a] = 1\n",
    "    visited = [False] * (N + 1)\n",
    "        "
   ]
  },
  {
   "cell_type": "markdown",
   "metadata": {},
   "source": [
    "## 2606. 바이러스"
   ]
  },
  {
   "cell_type": "code",
   "execution_count": 6,
   "metadata": {},
   "outputs": [
    {
     "name": "stdout",
     "output_type": "stream",
     "text": [
      "7\n",
      "6\n",
      "1 2\n",
      "2 3\n",
      "1 5\n",
      "5 2\n",
      "5 6\n",
      "4 7\n",
      "7\n"
     ]
    }
   ],
   "source": [
    "# def dfs(x, y):\n",
    "#     if x <= -1 or x >= N or y <= -1 or y >= M:\n",
    "#         return False\n",
    "#     if matrix[x][y] == 1:\n",
    "#         matrix[x][y] = 0\n",
    "#         dfs(x-1, y)\n",
    "#         dfs(x, y-1)\n",
    "#         dfs(x+1, y)\n",
    "#         dfs(x, y+1)\n",
    "#         return True\n",
    "#     return False\n",
    "\n",
    "def dfs(v):\n",
    "    visited[v] = 1\n",
    "    print(v, end = ' ')\n",
    "    result = 0\n",
    "    for i in range(1, N +1):\n",
    "        if visited == 0 and matrix[v][i] == 1:\n",
    "            dfs(i)\n",
    "        else:\n",
    "            result += 1\n",
    "\n",
    "N = int(input())\n",
    "M = int(input())\n",
    "matrix = [[0] * (N+1) for i in range(N+1)]\n",
    "\n",
    "for i in range(M):\n",
    "    a, b = map(int, input().split())\n",
    "    matrix[a][b] = matrix[b][a] = 1\n",
    "    \n",
    "visited = [0] * (N+1)\n",
    "\n",
    "# result = 0\n",
    "# for i in range(1, N+1):\n",
    "#     for j in range(M):\n",
    "#         if dfs(i, j) == True:\n",
    "\n",
    "#             result += 1\n",
    "print(result)"
   ]
  },
  {
   "cell_type": "code",
   "execution_count": null,
   "metadata": {},
   "outputs": [],
   "source": [
    "def dfs(graph, v, visited):\n",
    "    visited[v] = True\n",
    "    print(v, end = ' ')\n",
    "    for i in graph[v]:\n",
    "        "
   ]
  }
 ],
 "metadata": {
  "kernelspec": {
   "display_name": "Python 3",
   "language": "python",
   "name": "python3"
  },
  "language_info": {
   "codemirror_mode": {
    "name": "ipython",
    "version": 3
   },
   "file_extension": ".py",
   "mimetype": "text/x-python",
   "name": "python",
   "nbconvert_exporter": "python",
   "pygments_lexer": "ipython3",
   "version": "3.8.3"
  }
 },
 "nbformat": 4,
 "nbformat_minor": 4
}
