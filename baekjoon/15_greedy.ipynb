{
 "cells": [
  {
   "cell_type": "markdown",
   "metadata": {},
   "source": [
    "## 11047. 동전 0"
   ]
  },
  {
   "cell_type": "code",
   "execution_count": null,
   "metadata": {},
   "outputs": [],
   "source": []
  },
  {
   "cell_type": "markdown",
   "metadata": {},
   "source": [
    "## 2839. 설탕 배달"
   ]
  },
  {
   "cell_type": "code",
   "execution_count": 20,
   "metadata": {},
   "outputs": [
    {
     "name": "stdout",
     "output_type": "stream",
     "text": [
      "6\n",
      "1\n"
     ]
    }
   ],
   "source": [
    "N = int(input())\n",
    "\n",
    "\n",
    "\n",
    "if ((N % 3 != 0) & (N % 5 != 0)) | (N < 3):\n",
    "    print(-1)\n",
    "else:\n",
    "    cnt = 0\n",
    "    if N % 5 == 0:\n",
    "        print(N // 5)\n",
    "    if N > 0:\n",
    "        sugar_one = N // 5\n",
    "        cnt += sugar_one\n",
    "        N_two = N % 5\n",
    "        sugar_two = N_two // 3\n",
    "        cnt += sugar_two\n",
    "    print(cnt)"
   ]
  },
  {
   "cell_type": "code",
   "execution_count": 13,
   "metadata": {},
   "outputs": [
    {
     "name": "stdout",
     "output_type": "stream",
     "text": [
      "18\n",
      "3\n",
      "3\n",
      "4\n",
      "4\n"
     ]
    }
   ],
   "source": [
    "N = int(input())\n",
    "\n",
    "bongji_kg = [5, 3]\n",
    "cnt = 0\n",
    "\n",
    "sugar_one = N // bongji_kg[0]\n",
    "cnt += sugar_one\n",
    "\n",
    "N_two = N % bongji_kg[0]\n",
    "\n",
    "sugar_two = N_two // bongji_kg[1]\n",
    "cnt += sugar_two\n",
    "\n",
    "print(cnt)"
   ]
  },
  {
   "cell_type": "code",
   "execution_count": 12,
   "metadata": {},
   "outputs": [
    {
     "name": "stdout",
     "output_type": "stream",
     "text": [
      "3\n"
     ]
    }
   ],
   "source": [
    "print(18%5)"
   ]
  },
  {
   "cell_type": "markdown",
   "metadata": {},
   "source": [
    "## 11399. ATM"
   ]
  },
  {
   "cell_type": "code",
   "execution_count": 10,
   "metadata": {},
   "outputs": [
    {
     "name": "stdout",
     "output_type": "stream",
     "text": [
      "5\n",
      "3 1 4 3 2\n",
      "32\n"
     ]
    }
   ],
   "source": [
    "N = int(input())\n",
    "data = list(map(int, input().split()))\n",
    "\n",
    "data.sort()\n",
    "result = 0\n",
    "time = 0\n",
    "\n",
    "for i in data:\n",
    "    time += i\n",
    "    result += time\n",
    "print(result)"
   ]
  },
  {
   "cell_type": "markdown",
   "metadata": {},
   "source": [
    "## 13305. 주유소"
   ]
  },
  {
   "cell_type": "code",
   "execution_count": 79,
   "metadata": {},
   "outputs": [
    {
     "name": "stdout",
     "output_type": "stream",
     "text": [
      "5\n",
      "3 2 1 4\n",
      "5 8 9 4 1\n",
      "46\n"
     ]
    }
   ],
   "source": [
    "N = int(input())\n",
    "dist = list(map(int, input().split()))\n",
    "price = list(map(int, input().split()))\n",
    "\n",
    "result = 0\n",
    "total_d = 0\n",
    "min_p = price[0]\n",
    "\n",
    "for i in range(N-1):\n",
    "    if price[i] >= min_p:\n",
    "        total_d += dist[i]\n",
    "    else:\n",
    "        if price[i] < min_p:\n",
    "            min_p = price[i]\n",
    "            total_d += dist[i]\n",
    "    result += min_p * total_d\n",
    "    total_d = 0\n",
    "\n",
    "print(result)\n"
   ]
  },
  {
   "cell_type": "code",
   "execution_count": null,
   "metadata": {},
   "outputs": [],
   "source": [
    "## print로 결과 확인한 코드\n",
    "\n",
    "N = int(input())\n",
    "dist = list(map(int, input().split()))\n",
    "price = list(map(int, input().split()))\n",
    "\n",
    "result = 0\n",
    "total_d = 0\n",
    "min_p = price[0]\n",
    "\n",
    "for i in range(N-1):\n",
    "    if price[i] >= min_p:\n",
    "#         min_p = price[i]\n",
    "        print('min_p: ' + str(min_p))\n",
    "        total_d += dist[i]\n",
    "        print('total_d: ' + str(total_d))\n",
    "    else:\n",
    "        if price[i] < min_p:\n",
    "            min_p = price[i]\n",
    "            total_d += dist[i]\n",
    "    result += min_p * total_d\n",
    "    total_d = 0\n",
    "    print('result :' + str(result))\n",
    "\n",
    "print(result)\n"
   ]
  },
  {
   "cell_type": "code",
   "execution_count": null,
   "metadata": {},
   "outputs": [],
   "source": []
  }
 ],
 "metadata": {
  "kernelspec": {
   "display_name": "Python 3",
   "language": "python",
   "name": "python3"
  },
  "language_info": {
   "codemirror_mode": {
    "name": "ipython",
    "version": 3
   },
   "file_extension": ".py",
   "mimetype": "text/x-python",
   "name": "python",
   "nbconvert_exporter": "python",
   "pygments_lexer": "ipython3",
   "version": "3.8.5"
  }
 },
 "nbformat": 4,
 "nbformat_minor": 4
}
