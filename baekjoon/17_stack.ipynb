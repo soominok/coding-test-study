{
 "cells": [
  {
   "cell_type": "code",
   "execution_count": null,
   "metadata": {},
   "outputs": [],
   "source": [
    "1"
   ]
  },
  {
   "cell_type": "markdown",
   "metadata": {},
   "source": [
    "## 10773. 제로"
   ]
  },
  {
   "cell_type": "code",
   "execution_count": 20,
   "metadata": {},
   "outputs": [
    {
     "name": "stdout",
     "output_type": "stream",
     "text": [
      "4\n",
      "3\n",
      "0\n",
      "4\n",
      "0\n",
      "0\n"
     ]
    }
   ],
   "source": [
    "K = int(input())\n",
    "result = []\n",
    "\n",
    "for i in range(K):\n",
    "    data = int(input())\n",
    "    if data == 0:\n",
    "        result.pop()\n",
    "    else:\n",
    "        result.append(data)\n",
    "print(sum(result))"
   ]
  }
 ],
 "metadata": {
  "kernelspec": {
   "display_name": "Python 3",
   "language": "python",
   "name": "python3"
  }
 },
 "nbformat": 4,
 "nbformat_minor": 4
}
